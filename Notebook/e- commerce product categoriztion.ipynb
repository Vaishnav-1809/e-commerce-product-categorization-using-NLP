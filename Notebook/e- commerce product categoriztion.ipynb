{
 "cells": [
  {
   "cell_type": "markdown",
   "id": "e892bd81",
   "metadata": {},
   "source": [
    "## IMPORTING THE LIBRARIES"
   ]
  },
  {
   "cell_type": "code",
   "execution_count": 2,
   "id": "44b9b5b0",
   "metadata": {},
   "outputs": [],
   "source": [
    "import numpy as np\n",
    "import pandas as pd\n",
    "import matplotlib.pyplot as plt\n",
    "import seaborn as sns\n",
    "import string\n",
    "import re\n",
    "import nltk\n",
    "from nltk.corpus import stopwords\n",
    "from nltk.stem import PorterStemmer\n",
    "from nltk.tokenize import sent_tokenize,word_tokenize\n",
    "from sklearn.preprocessing import LabelEncoder\n",
    "from sklearn.model_selection import train_test_split,GridSearchCV\n",
    "from sklearn.feature_extraction.text import CountVectorizer,TfidfVectorizer\n",
    "from sklearn. linear_model import LogisticRegression\n",
    "from sklearn.svm import SVC\n",
    "from sklearn.tree import DecisionTreeClassifier\n",
    "from sklearn.ensemble import RandomForestClassifier \n",
    "from sklearn.metrics import classification_report,accuracy_score,roc_auc_score\n",
    "import warnings\n",
    "warnings.filterwarnings('ignore')"
   ]
  },
  {
   "cell_type": "code",
   "execution_count": 3,
   "id": "f2cb4490",
   "metadata": {},
   "outputs": [
    {
     "name": "stderr",
     "output_type": "stream",
     "text": [
      "[nltk_data] Downloading package stopwords to\n",
      "[nltk_data]     C:\\Users\\vaish_s4kcn30\\AppData\\Roaming\\nltk_data...\n",
      "[nltk_data]   Package stopwords is already up-to-date!\n"
     ]
    },
    {
     "data": {
      "text/plain": [
       "True"
      ]
     },
     "execution_count": 3,
     "metadata": {},
     "output_type": "execute_result"
    }
   ],
   "source": [
    "nltk.download('stopwords')"
   ]
  },
  {
   "cell_type": "markdown",
   "id": "849f7851",
   "metadata": {},
   "source": [
    "### Importing the dataset"
   ]
  },
  {
   "cell_type": "code",
   "execution_count": 5,
   "id": "b84e9be5",
   "metadata": {
    "scrolled": true
   },
   "outputs": [
    {
     "data": {
      "text/html": [
       "<div>\n",
       "<style scoped>\n",
       "    .dataframe tbody tr th:only-of-type {\n",
       "        vertical-align: middle;\n",
       "    }\n",
       "\n",
       "    .dataframe tbody tr th {\n",
       "        vertical-align: top;\n",
       "    }\n",
       "\n",
       "    .dataframe thead th {\n",
       "        text-align: right;\n",
       "    }\n",
       "</style>\n",
       "<table border=\"1\" class=\"dataframe\">\n",
       "  <thead>\n",
       "    <tr style=\"text-align: right;\">\n",
       "      <th></th>\n",
       "      <th>uniq_id</th>\n",
       "      <th>crawl_timestamp</th>\n",
       "      <th>product_url</th>\n",
       "      <th>product_name</th>\n",
       "      <th>product_category_tree</th>\n",
       "      <th>pid</th>\n",
       "      <th>retail_price</th>\n",
       "      <th>discounted_price</th>\n",
       "      <th>image</th>\n",
       "      <th>is_FK_Advantage_product</th>\n",
       "      <th>description</th>\n",
       "      <th>product_rating</th>\n",
       "      <th>overall_rating</th>\n",
       "      <th>brand</th>\n",
       "      <th>product_specifications</th>\n",
       "    </tr>\n",
       "  </thead>\n",
       "  <tbody>\n",
       "    <tr>\n",
       "      <th>0</th>\n",
       "      <td>c2d766ca982eca8304150849735ffef9</td>\n",
       "      <td>2016-03-25 22:59:23 +0000</td>\n",
       "      <td>http://www.flipkart.com/alisha-solid-women-s-c...</td>\n",
       "      <td>Alisha Solid Women's Cycling Shorts</td>\n",
       "      <td>Clothing</td>\n",
       "      <td>SRTEH2FF9KEDEFGF</td>\n",
       "      <td>999.0</td>\n",
       "      <td>379.0</td>\n",
       "      <td>[\"http://img5a.flixcart.com/image/short/u/4/a/...</td>\n",
       "      <td>False</td>\n",
       "      <td>Key Features of Alisha Solid Women's Cycling S...</td>\n",
       "      <td>No rating available</td>\n",
       "      <td>No rating available</td>\n",
       "      <td>Alisha</td>\n",
       "      <td>{\"product_specification\"=&gt;[{\"key\"=&gt;\"Number of ...</td>\n",
       "    </tr>\n",
       "    <tr>\n",
       "      <th>1</th>\n",
       "      <td>f449ec65dcbc041b6ae5e6a32717d01b</td>\n",
       "      <td>2016-03-25 22:59:23 +0000</td>\n",
       "      <td>http://www.flipkart.com/aw-bellies/p/itmeh4grg...</td>\n",
       "      <td>AW Bellies</td>\n",
       "      <td>Footwear</td>\n",
       "      <td>SHOEH4GRSUBJGZXE</td>\n",
       "      <td>999.0</td>\n",
       "      <td>499.0</td>\n",
       "      <td>[\"http://img5a.flixcart.com/image/shoe/7/z/z/r...</td>\n",
       "      <td>False</td>\n",
       "      <td>Key Features of AW Bellies Sandals Wedges Heel...</td>\n",
       "      <td>No rating available</td>\n",
       "      <td>No rating available</td>\n",
       "      <td>AW</td>\n",
       "      <td>{\"product_specification\"=&gt;[{\"key\"=&gt;\"Ideal For\"...</td>\n",
       "    </tr>\n",
       "    <tr>\n",
       "      <th>2</th>\n",
       "      <td>0973b37acd0c664e3de26e97e5571454</td>\n",
       "      <td>2016-03-25 22:59:23 +0000</td>\n",
       "      <td>http://www.flipkart.com/alisha-solid-women-s-c...</td>\n",
       "      <td>Alisha Solid Women's Cycling Shorts</td>\n",
       "      <td>Clothing</td>\n",
       "      <td>SRTEH2F6HUZMQ6SJ</td>\n",
       "      <td>699.0</td>\n",
       "      <td>267.0</td>\n",
       "      <td>[\"http://img5a.flixcart.com/image/short/6/2/h/...</td>\n",
       "      <td>False</td>\n",
       "      <td>Key Features of Alisha Solid Women's Cycling S...</td>\n",
       "      <td>No rating available</td>\n",
       "      <td>No rating available</td>\n",
       "      <td>Alisha</td>\n",
       "      <td>{\"product_specification\"=&gt;[{\"key\"=&gt;\"Number of ...</td>\n",
       "    </tr>\n",
       "    <tr>\n",
       "      <th>3</th>\n",
       "      <td>ce5a6818f7707e2cb61fdcdbba61f5ad</td>\n",
       "      <td>2016-03-25 22:59:23 +0000</td>\n",
       "      <td>http://www.flipkart.com/alisha-solid-women-s-c...</td>\n",
       "      <td>Alisha Solid Women's Cycling Shorts</td>\n",
       "      <td>Clothing</td>\n",
       "      <td>SRTEH2FVVKRBAXHB</td>\n",
       "      <td>1199.0</td>\n",
       "      <td>479.0</td>\n",
       "      <td>[\"http://img6a.flixcart.com/image/short/p/j/z/...</td>\n",
       "      <td>False</td>\n",
       "      <td>Key Features of Alisha Solid Women's Cycling S...</td>\n",
       "      <td>No rating available</td>\n",
       "      <td>No rating available</td>\n",
       "      <td>Alisha</td>\n",
       "      <td>{\"product_specification\"=&gt;[{\"key\"=&gt;\"Number of ...</td>\n",
       "    </tr>\n",
       "    <tr>\n",
       "      <th>4</th>\n",
       "      <td>29c8d290caa451f97b1c32df64477a2c</td>\n",
       "      <td>2016-03-25 22:59:23 +0000</td>\n",
       "      <td>http://www.flipkart.com/dilli-bazaaar-bellies-...</td>\n",
       "      <td>dilli bazaaar Bellies, Corporate Casuals, Casuals</td>\n",
       "      <td>Footwear</td>\n",
       "      <td>SHOEH3DZBFR88SCK</td>\n",
       "      <td>699.0</td>\n",
       "      <td>349.0</td>\n",
       "      <td>[\"http://img6a.flixcart.com/image/shoe/b/p/n/p...</td>\n",
       "      <td>False</td>\n",
       "      <td>Key Features of dilli bazaaar Bellies, Corpora...</td>\n",
       "      <td>No rating available</td>\n",
       "      <td>No rating available</td>\n",
       "      <td>dilli bazaaar</td>\n",
       "      <td>{\"product_specification\"=&gt;[{\"key\"=&gt;\"Occasion\",...</td>\n",
       "    </tr>\n",
       "  </tbody>\n",
       "</table>\n",
       "</div>"
      ],
      "text/plain": [
       "                            uniq_id            crawl_timestamp  \\\n",
       "0  c2d766ca982eca8304150849735ffef9  2016-03-25 22:59:23 +0000   \n",
       "1  f449ec65dcbc041b6ae5e6a32717d01b  2016-03-25 22:59:23 +0000   \n",
       "2  0973b37acd0c664e3de26e97e5571454  2016-03-25 22:59:23 +0000   \n",
       "3  ce5a6818f7707e2cb61fdcdbba61f5ad  2016-03-25 22:59:23 +0000   \n",
       "4  29c8d290caa451f97b1c32df64477a2c  2016-03-25 22:59:23 +0000   \n",
       "\n",
       "                                         product_url  \\\n",
       "0  http://www.flipkart.com/alisha-solid-women-s-c...   \n",
       "1  http://www.flipkart.com/aw-bellies/p/itmeh4grg...   \n",
       "2  http://www.flipkart.com/alisha-solid-women-s-c...   \n",
       "3  http://www.flipkart.com/alisha-solid-women-s-c...   \n",
       "4  http://www.flipkart.com/dilli-bazaaar-bellies-...   \n",
       "\n",
       "                                        product_name product_category_tree  \\\n",
       "0                Alisha Solid Women's Cycling Shorts             Clothing    \n",
       "1                                         AW Bellies             Footwear    \n",
       "2                Alisha Solid Women's Cycling Shorts             Clothing    \n",
       "3                Alisha Solid Women's Cycling Shorts             Clothing    \n",
       "4  dilli bazaaar Bellies, Corporate Casuals, Casuals             Footwear    \n",
       "\n",
       "                pid  retail_price  discounted_price  \\\n",
       "0  SRTEH2FF9KEDEFGF         999.0             379.0   \n",
       "1  SHOEH4GRSUBJGZXE         999.0             499.0   \n",
       "2  SRTEH2F6HUZMQ6SJ         699.0             267.0   \n",
       "3  SRTEH2FVVKRBAXHB        1199.0             479.0   \n",
       "4  SHOEH3DZBFR88SCK         699.0             349.0   \n",
       "\n",
       "                                               image  is_FK_Advantage_product  \\\n",
       "0  [\"http://img5a.flixcart.com/image/short/u/4/a/...                    False   \n",
       "1  [\"http://img5a.flixcart.com/image/shoe/7/z/z/r...                    False   \n",
       "2  [\"http://img5a.flixcart.com/image/short/6/2/h/...                    False   \n",
       "3  [\"http://img6a.flixcart.com/image/short/p/j/z/...                    False   \n",
       "4  [\"http://img6a.flixcart.com/image/shoe/b/p/n/p...                    False   \n",
       "\n",
       "                                         description       product_rating  \\\n",
       "0  Key Features of Alisha Solid Women's Cycling S...  No rating available   \n",
       "1  Key Features of AW Bellies Sandals Wedges Heel...  No rating available   \n",
       "2  Key Features of Alisha Solid Women's Cycling S...  No rating available   \n",
       "3  Key Features of Alisha Solid Women's Cycling S...  No rating available   \n",
       "4  Key Features of dilli bazaaar Bellies, Corpora...  No rating available   \n",
       "\n",
       "        overall_rating          brand  \\\n",
       "0  No rating available         Alisha   \n",
       "1  No rating available             AW   \n",
       "2  No rating available         Alisha   \n",
       "3  No rating available         Alisha   \n",
       "4  No rating available  dilli bazaaar   \n",
       "\n",
       "                              product_specifications  \n",
       "0  {\"product_specification\"=>[{\"key\"=>\"Number of ...  \n",
       "1  {\"product_specification\"=>[{\"key\"=>\"Ideal For\"...  \n",
       "2  {\"product_specification\"=>[{\"key\"=>\"Number of ...  \n",
       "3  {\"product_specification\"=>[{\"key\"=>\"Number of ...  \n",
       "4  {\"product_specification\"=>[{\"key\"=>\"Occasion\",...  "
      ]
     },
     "execution_count": 5,
     "metadata": {},
     "output_type": "execute_result"
    }
   ],
   "source": [
    "df = pd.read_csv(r\"C:\\Users\\vaish_s4kcn30\\Downloads\\Python\\My portfolio\\e-commerce product categorization using NLP\\Dataset\\train_product_data.csv\")\n",
    "df.head()"
   ]
  },
  {
   "cell_type": "markdown",
   "id": "1493c35f",
   "metadata": {},
   "source": [
    "### Filtering the dataframe by choosing only the required columns:"
   ]
  },
  {
   "cell_type": "code",
   "execution_count": 7,
   "id": "c8fc2ccf",
   "metadata": {},
   "outputs": [],
   "source": [
    "df = df[['description','product_category_tree']]"
   ]
  },
  {
   "cell_type": "code",
   "execution_count": 8,
   "id": "53a93fc8",
   "metadata": {
    "scrolled": true
   },
   "outputs": [
    {
     "data": {
      "text/html": [
       "<div>\n",
       "<style scoped>\n",
       "    .dataframe tbody tr th:only-of-type {\n",
       "        vertical-align: middle;\n",
       "    }\n",
       "\n",
       "    .dataframe tbody tr th {\n",
       "        vertical-align: top;\n",
       "    }\n",
       "\n",
       "    .dataframe thead th {\n",
       "        text-align: right;\n",
       "    }\n",
       "</style>\n",
       "<table border=\"1\" class=\"dataframe\">\n",
       "  <thead>\n",
       "    <tr style=\"text-align: right;\">\n",
       "      <th></th>\n",
       "      <th>description</th>\n",
       "      <th>product_category_tree</th>\n",
       "    </tr>\n",
       "  </thead>\n",
       "  <tbody>\n",
       "    <tr>\n",
       "      <th>3165</th>\n",
       "      <td>Printland PMR1303 Ceramic Mug (350 g)\\n       ...</td>\n",
       "      <td>Kitchen &amp; Dining</td>\n",
       "    </tr>\n",
       "  </tbody>\n",
       "</table>\n",
       "</div>"
      ],
      "text/plain": [
       "                                            description product_category_tree\n",
       "3165  Printland PMR1303 Ceramic Mug (350 g)\\n       ...     Kitchen & Dining "
      ]
     },
     "execution_count": 8,
     "metadata": {},
     "output_type": "execute_result"
    }
   ],
   "source": [
    "df.sample()"
   ]
  },
  {
   "cell_type": "markdown",
   "id": "1f72c1f0",
   "metadata": {},
   "source": [
    "### Renaming the column headers for easy of understanding:"
   ]
  },
  {
   "cell_type": "code",
   "execution_count": 10,
   "id": "6793ea83",
   "metadata": {},
   "outputs": [
    {
     "data": {
      "text/html": [
       "<div>\n",
       "<style scoped>\n",
       "    .dataframe tbody tr th:only-of-type {\n",
       "        vertical-align: middle;\n",
       "    }\n",
       "\n",
       "    .dataframe tbody tr th {\n",
       "        vertical-align: top;\n",
       "    }\n",
       "\n",
       "    .dataframe thead th {\n",
       "        text-align: right;\n",
       "    }\n",
       "</style>\n",
       "<table border=\"1\" class=\"dataframe\">\n",
       "  <thead>\n",
       "    <tr style=\"text-align: right;\">\n",
       "      <th></th>\n",
       "      <th>Description</th>\n",
       "      <th>Product Category</th>\n",
       "    </tr>\n",
       "  </thead>\n",
       "  <tbody>\n",
       "    <tr>\n",
       "      <th>0</th>\n",
       "      <td>Key Features of Alisha Solid Women's Cycling S...</td>\n",
       "      <td>Clothing</td>\n",
       "    </tr>\n",
       "    <tr>\n",
       "      <th>1</th>\n",
       "      <td>Key Features of AW Bellies Sandals Wedges Heel...</td>\n",
       "      <td>Footwear</td>\n",
       "    </tr>\n",
       "    <tr>\n",
       "      <th>2</th>\n",
       "      <td>Key Features of Alisha Solid Women's Cycling S...</td>\n",
       "      <td>Clothing</td>\n",
       "    </tr>\n",
       "    <tr>\n",
       "      <th>3</th>\n",
       "      <td>Key Features of Alisha Solid Women's Cycling S...</td>\n",
       "      <td>Clothing</td>\n",
       "    </tr>\n",
       "    <tr>\n",
       "      <th>4</th>\n",
       "      <td>Key Features of dilli bazaaar Bellies, Corpora...</td>\n",
       "      <td>Footwear</td>\n",
       "    </tr>\n",
       "  </tbody>\n",
       "</table>\n",
       "</div>"
      ],
      "text/plain": [
       "                                         Description Product Category\n",
       "0  Key Features of Alisha Solid Women's Cycling S...        Clothing \n",
       "1  Key Features of AW Bellies Sandals Wedges Heel...        Footwear \n",
       "2  Key Features of Alisha Solid Women's Cycling S...        Clothing \n",
       "3  Key Features of Alisha Solid Women's Cycling S...        Clothing \n",
       "4  Key Features of dilli bazaaar Bellies, Corpora...        Footwear "
      ]
     },
     "execution_count": 10,
     "metadata": {},
     "output_type": "execute_result"
    }
   ],
   "source": [
    "df.columns = ['Description', 'Product Category']\n",
    "df.head()"
   ]
  },
  {
   "cell_type": "code",
   "execution_count": 11,
   "id": "0216e348",
   "metadata": {},
   "outputs": [
    {
     "name": "stdout",
     "output_type": "stream",
     "text": [
      "<class 'pandas.core.frame.DataFrame'>\n",
      "RangeIndex: 14999 entries, 0 to 14998\n",
      "Data columns (total 2 columns):\n",
      " #   Column            Non-Null Count  Dtype \n",
      "---  ------            --------------  ----- \n",
      " 0   Description       14998 non-null  object\n",
      " 1   Product Category  14999 non-null  object\n",
      "dtypes: object(2)\n",
      "memory usage: 234.5+ KB\n"
     ]
    }
   ],
   "source": [
    "df.info()"
   ]
  },
  {
   "cell_type": "code",
   "execution_count": 12,
   "id": "9f00c7c1",
   "metadata": {},
   "outputs": [
    {
     "data": {
      "text/plain": [
       "(14999, 2)"
      ]
     },
     "execution_count": 12,
     "metadata": {},
     "output_type": "execute_result"
    }
   ],
   "source": [
    "df.shape"
   ]
  },
  {
   "cell_type": "markdown",
   "id": "8dfb0dd5",
   "metadata": {},
   "source": [
    "### Checking for duplicates: "
   ]
  },
  {
   "cell_type": "code",
   "execution_count": 14,
   "id": "bf1e51b4",
   "metadata": {},
   "outputs": [
    {
     "data": {
      "text/plain": [
       "1832"
      ]
     },
     "execution_count": 14,
     "metadata": {},
     "output_type": "execute_result"
    }
   ],
   "source": [
    "df.duplicated().sum()"
   ]
  },
  {
   "cell_type": "code",
   "execution_count": 15,
   "id": "d9836730",
   "metadata": {},
   "outputs": [
    {
     "data": {
      "text/plain": [
       "(13167, 2)"
      ]
     },
     "execution_count": 15,
     "metadata": {},
     "output_type": "execute_result"
    }
   ],
   "source": [
    "df = df.drop_duplicates(keep='first')\n",
    "df.shape"
   ]
  },
  {
   "cell_type": "markdown",
   "id": "2e7140b7",
   "metadata": {},
   "source": [
    "### Checking for null values:"
   ]
  },
  {
   "cell_type": "code",
   "execution_count": 17,
   "id": "f93afcc7",
   "metadata": {},
   "outputs": [
    {
     "data": {
      "text/plain": [
       "Description         1\n",
       "Product Category    0\n",
       "dtype: int64"
      ]
     },
     "execution_count": 17,
     "metadata": {},
     "output_type": "execute_result"
    }
   ],
   "source": [
    "df.isnull().sum()"
   ]
  },
  {
   "cell_type": "code",
   "execution_count": 18,
   "id": "dc319300",
   "metadata": {},
   "outputs": [],
   "source": [
    "df = df.dropna()"
   ]
  },
  {
   "cell_type": "code",
   "execution_count": 19,
   "id": "936bf9e0",
   "metadata": {},
   "outputs": [
    {
     "data": {
      "text/plain": [
       "(13166, 2)"
      ]
     },
     "execution_count": 19,
     "metadata": {},
     "output_type": "execute_result"
    }
   ],
   "source": [
    "df.shape"
   ]
  },
  {
   "cell_type": "markdown",
   "id": "642919d5",
   "metadata": {},
   "source": [
    "## EXPLORATORY DATA ANALYSIS:"
   ]
  },
  {
   "cell_type": "code",
   "execution_count": 21,
   "id": "f831b88b",
   "metadata": {},
   "outputs": [
    {
     "data": {
      "text/plain": [
       "array(['Clothing ', 'Footwear ', 'Pens & Stationery ',\n",
       "       'Bags, Wallets & Belts ', 'Home Decor & Festive Needs ',\n",
       "       'Automotive ', 'Tools & Hardware ', 'Baby Care ',\n",
       "       'Mobiles & Accessories ', 'Watches ', 'Toys & School Supplies ',\n",
       "       'Jewellery ', 'Kitchen & Dining ', 'Computers '], dtype=object)"
      ]
     },
     "execution_count": 21,
     "metadata": {},
     "output_type": "execute_result"
    }
   ],
   "source": [
    "df['Product Category'].unique()"
   ]
  },
  {
   "cell_type": "code",
   "execution_count": 22,
   "id": "5cf7996d",
   "metadata": {},
   "outputs": [
    {
     "data": {
      "text/plain": [
       "14"
      ]
     },
     "execution_count": 22,
     "metadata": {},
     "output_type": "execute_result"
    }
   ],
   "source": [
    "df['Product Category'].nunique()"
   ]
  },
  {
   "cell_type": "markdown",
   "id": "7df42fb1",
   "metadata": {},
   "source": [
    "### Checking the distribution of the product category by count:"
   ]
  },
  {
   "cell_type": "code",
   "execution_count": 24,
   "id": "e1b29c49",
   "metadata": {},
   "outputs": [],
   "source": [
    "prod_df = df['Product Category'].value_counts().reset_index()"
   ]
  },
  {
   "cell_type": "code",
   "execution_count": 25,
   "id": "2e043bd9",
   "metadata": {},
   "outputs": [
    {
     "data": {
      "text/html": [
       "<div>\n",
       "<style scoped>\n",
       "    .dataframe tbody tr th:only-of-type {\n",
       "        vertical-align: middle;\n",
       "    }\n",
       "\n",
       "    .dataframe tbody tr th {\n",
       "        vertical-align: top;\n",
       "    }\n",
       "\n",
       "    .dataframe thead th {\n",
       "        text-align: right;\n",
       "    }\n",
       "</style>\n",
       "<table border=\"1\" class=\"dataframe\">\n",
       "  <thead>\n",
       "    <tr style=\"text-align: right;\">\n",
       "      <th></th>\n",
       "      <th>Product Category</th>\n",
       "      <th>count</th>\n",
       "    </tr>\n",
       "  </thead>\n",
       "  <tbody>\n",
       "    <tr>\n",
       "      <th>0</th>\n",
       "      <td>Clothing</td>\n",
       "      <td>4663</td>\n",
       "    </tr>\n",
       "    <tr>\n",
       "      <th>1</th>\n",
       "      <td>Jewellery</td>\n",
       "      <td>2658</td>\n",
       "    </tr>\n",
       "    <tr>\n",
       "      <th>2</th>\n",
       "      <td>Footwear</td>\n",
       "      <td>988</td>\n",
       "    </tr>\n",
       "    <tr>\n",
       "      <th>3</th>\n",
       "      <td>Automotive</td>\n",
       "      <td>935</td>\n",
       "    </tr>\n",
       "    <tr>\n",
       "      <th>4</th>\n",
       "      <td>Home Decor &amp; Festive Needs</td>\n",
       "      <td>606</td>\n",
       "    </tr>\n",
       "    <tr>\n",
       "      <th>5</th>\n",
       "      <td>Kitchen &amp; Dining</td>\n",
       "      <td>606</td>\n",
       "    </tr>\n",
       "    <tr>\n",
       "      <th>6</th>\n",
       "      <td>Computers</td>\n",
       "      <td>529</td>\n",
       "    </tr>\n",
       "    <tr>\n",
       "      <th>7</th>\n",
       "      <td>Watches</td>\n",
       "      <td>526</td>\n",
       "    </tr>\n",
       "    <tr>\n",
       "      <th>8</th>\n",
       "      <td>Mobiles &amp; Accessories</td>\n",
       "      <td>501</td>\n",
       "    </tr>\n",
       "    <tr>\n",
       "      <th>9</th>\n",
       "      <td>Tools &amp; Hardware</td>\n",
       "      <td>321</td>\n",
       "    </tr>\n",
       "    <tr>\n",
       "      <th>10</th>\n",
       "      <td>Toys &amp; School Supplies</td>\n",
       "      <td>262</td>\n",
       "    </tr>\n",
       "    <tr>\n",
       "      <th>11</th>\n",
       "      <td>Pens &amp; Stationery</td>\n",
       "      <td>224</td>\n",
       "    </tr>\n",
       "    <tr>\n",
       "      <th>12</th>\n",
       "      <td>Baby Care</td>\n",
       "      <td>195</td>\n",
       "    </tr>\n",
       "    <tr>\n",
       "      <th>13</th>\n",
       "      <td>Bags, Wallets &amp; Belts</td>\n",
       "      <td>152</td>\n",
       "    </tr>\n",
       "  </tbody>\n",
       "</table>\n",
       "</div>"
      ],
      "text/plain": [
       "               Product Category  count\n",
       "0                     Clothing    4663\n",
       "1                    Jewellery    2658\n",
       "2                     Footwear     988\n",
       "3                   Automotive     935\n",
       "4   Home Decor & Festive Needs     606\n",
       "5             Kitchen & Dining     606\n",
       "6                    Computers     529\n",
       "7                      Watches     526\n",
       "8        Mobiles & Accessories     501\n",
       "9             Tools & Hardware     321\n",
       "10      Toys & School Supplies     262\n",
       "11           Pens & Stationery     224\n",
       "12                   Baby Care     195\n",
       "13       Bags, Wallets & Belts     152"
      ]
     },
     "execution_count": 25,
     "metadata": {},
     "output_type": "execute_result"
    }
   ],
   "source": [
    "prod_df"
   ]
  },
  {
   "cell_type": "markdown",
   "id": "9c99d28a",
   "metadata": {},
   "source": [
    "### Visualization of product category distribution:"
   ]
  },
  {
   "cell_type": "markdown",
   "id": "99d5d4b3",
   "metadata": {
    "scrolled": true
   },
   "source": [
    "plt.figure(figsize=(15,10))\n",
    "sns.barplot(data = prod_df, x='Product Category', y = 'count')\n",
    "plt.title('Bar plot for the distribution of the product category', fontsize = 20)\n",
    "plt.xticks(rotation = 90)\n",
    "for index, value in enumerate(prod_df['count']):\n",
    "    plt.text(index,value+50,np.round(prod_df['count'].iloc[index],2),rotation = 90)\n",
    "plt.ylim(0,5000)\n",
    "plt.show()"
   ]
  },
  {
   "cell_type": "markdown",
   "id": "eac63a5d",
   "metadata": {},
   "source": [
    "### Let's create a function to count the total number of words:"
   ]
  },
  {
   "cell_type": "code",
   "execution_count": 29,
   "id": "bbae78cb",
   "metadata": {},
   "outputs": [],
   "source": [
    "def word_count(text):\n",
    "    return len(text.split())"
   ]
  },
  {
   "cell_type": "code",
   "execution_count": 30,
   "id": "d7748bf2",
   "metadata": {},
   "outputs": [],
   "source": [
    "df['Word Count']= df['Description'].apply(lambda x: word_count(x))"
   ]
  },
  {
   "cell_type": "code",
   "execution_count": 31,
   "id": "e274007e",
   "metadata": {},
   "outputs": [
    {
     "data": {
      "text/html": [
       "<div>\n",
       "<style scoped>\n",
       "    .dataframe tbody tr th:only-of-type {\n",
       "        vertical-align: middle;\n",
       "    }\n",
       "\n",
       "    .dataframe tbody tr th {\n",
       "        vertical-align: top;\n",
       "    }\n",
       "\n",
       "    .dataframe thead th {\n",
       "        text-align: right;\n",
       "    }\n",
       "</style>\n",
       "<table border=\"1\" class=\"dataframe\">\n",
       "  <thead>\n",
       "    <tr style=\"text-align: right;\">\n",
       "      <th></th>\n",
       "      <th>Description</th>\n",
       "      <th>Product Category</th>\n",
       "      <th>Word Count</th>\n",
       "    </tr>\n",
       "  </thead>\n",
       "  <tbody>\n",
       "    <tr>\n",
       "      <th>0</th>\n",
       "      <td>Key Features of Alisha Solid Women's Cycling S...</td>\n",
       "      <td>Clothing</td>\n",
       "      <td>64</td>\n",
       "    </tr>\n",
       "    <tr>\n",
       "      <th>1</th>\n",
       "      <td>Key Features of AW Bellies Sandals Wedges Heel...</td>\n",
       "      <td>Footwear</td>\n",
       "      <td>107</td>\n",
       "    </tr>\n",
       "    <tr>\n",
       "      <th>2</th>\n",
       "      <td>Key Features of Alisha Solid Women's Cycling S...</td>\n",
       "      <td>Clothing</td>\n",
       "      <td>63</td>\n",
       "    </tr>\n",
       "    <tr>\n",
       "      <th>3</th>\n",
       "      <td>Key Features of Alisha Solid Women's Cycling S...</td>\n",
       "      <td>Clothing</td>\n",
       "      <td>65</td>\n",
       "    </tr>\n",
       "    <tr>\n",
       "      <th>4</th>\n",
       "      <td>Key Features of dilli bazaaar Bellies, Corpora...</td>\n",
       "      <td>Footwear</td>\n",
       "      <td>64</td>\n",
       "    </tr>\n",
       "  </tbody>\n",
       "</table>\n",
       "</div>"
      ],
      "text/plain": [
       "                                         Description Product Category  \\\n",
       "0  Key Features of Alisha Solid Women's Cycling S...        Clothing    \n",
       "1  Key Features of AW Bellies Sandals Wedges Heel...        Footwear    \n",
       "2  Key Features of Alisha Solid Women's Cycling S...        Clothing    \n",
       "3  Key Features of Alisha Solid Women's Cycling S...        Clothing    \n",
       "4  Key Features of dilli bazaaar Bellies, Corpora...        Footwear    \n",
       "\n",
       "   Word Count  \n",
       "0          64  \n",
       "1         107  \n",
       "2          63  \n",
       "3          65  \n",
       "4          64  "
      ]
     },
     "execution_count": 31,
     "metadata": {},
     "output_type": "execute_result"
    }
   ],
   "source": [
    "df.head()"
   ]
  },
  {
   "cell_type": "code",
   "execution_count": 32,
   "id": "27d8e203",
   "metadata": {},
   "outputs": [
    {
     "name": "stdout",
     "output_type": "stream",
     "text": [
      "Total number of words in the description column is 864533\n"
     ]
    }
   ],
   "source": [
    "total_word_count = df['Word Count'].sum()\n",
    "print(f\"Total number of words in the description column is {total_word_count}\")"
   ]
  },
  {
   "cell_type": "code",
   "execution_count": 33,
   "id": "e8374094",
   "metadata": {},
   "outputs": [
    {
     "name": "stdout",
     "output_type": "stream",
     "text": [
      "The average number of words in the description column is 65.66405893969315\n"
     ]
    }
   ],
   "source": [
    "avg_word_count = df['Word Count'].mean()\n",
    "print(f\"The average number of words in the description column is {avg_word_count}\")"
   ]
  },
  {
   "cell_type": "code",
   "execution_count": 34,
   "id": "e11d6424",
   "metadata": {},
   "outputs": [
    {
     "data": {
      "text/html": [
       "<div>\n",
       "<style scoped>\n",
       "    .dataframe tbody tr th:only-of-type {\n",
       "        vertical-align: middle;\n",
       "    }\n",
       "\n",
       "    .dataframe tbody tr th {\n",
       "        vertical-align: top;\n",
       "    }\n",
       "\n",
       "    .dataframe thead th {\n",
       "        text-align: right;\n",
       "    }\n",
       "</style>\n",
       "<table border=\"1\" class=\"dataframe\">\n",
       "  <thead>\n",
       "    <tr style=\"text-align: right;\">\n",
       "      <th></th>\n",
       "      <th>Word Count</th>\n",
       "    </tr>\n",
       "  </thead>\n",
       "  <tbody>\n",
       "    <tr>\n",
       "      <th>count</th>\n",
       "      <td>13166.000000</td>\n",
       "    </tr>\n",
       "    <tr>\n",
       "      <th>mean</th>\n",
       "      <td>65.664059</td>\n",
       "    </tr>\n",
       "    <tr>\n",
       "      <th>std</th>\n",
       "      <td>65.778672</td>\n",
       "    </tr>\n",
       "    <tr>\n",
       "      <th>min</th>\n",
       "      <td>8.000000</td>\n",
       "    </tr>\n",
       "    <tr>\n",
       "      <th>25%</th>\n",
       "      <td>32.000000</td>\n",
       "    </tr>\n",
       "    <tr>\n",
       "      <th>50%</th>\n",
       "      <td>37.000000</td>\n",
       "    </tr>\n",
       "    <tr>\n",
       "      <th>75%</th>\n",
       "      <td>72.000000</td>\n",
       "    </tr>\n",
       "    <tr>\n",
       "      <th>max</th>\n",
       "      <td>872.000000</td>\n",
       "    </tr>\n",
       "  </tbody>\n",
       "</table>\n",
       "</div>"
      ],
      "text/plain": [
       "         Word Count\n",
       "count  13166.000000\n",
       "mean      65.664059\n",
       "std       65.778672\n",
       "min        8.000000\n",
       "25%       32.000000\n",
       "50%       37.000000\n",
       "75%       72.000000\n",
       "max      872.000000"
      ]
     },
     "execution_count": 34,
     "metadata": {},
     "output_type": "execute_result"
    }
   ],
   "source": [
    "df.describe()"
   ]
  },
  {
   "cell_type": "code",
   "execution_count": 35,
   "id": "4b1cedbb",
   "metadata": {},
   "outputs": [
    {
     "data": {
      "text/html": [
       "<div>\n",
       "<style scoped>\n",
       "    .dataframe tbody tr th:only-of-type {\n",
       "        vertical-align: middle;\n",
       "    }\n",
       "\n",
       "    .dataframe tbody tr th {\n",
       "        vertical-align: top;\n",
       "    }\n",
       "\n",
       "    .dataframe thead th {\n",
       "        text-align: right;\n",
       "    }\n",
       "</style>\n",
       "<table border=\"1\" class=\"dataframe\">\n",
       "  <thead>\n",
       "    <tr style=\"text-align: right;\">\n",
       "      <th></th>\n",
       "      <th>Description</th>\n",
       "      <th>Product Category</th>\n",
       "      <th>Word Count</th>\n",
       "    </tr>\n",
       "  </thead>\n",
       "  <tbody>\n",
       "    <tr>\n",
       "      <th>357</th>\n",
       "      <td>Asian Gems &amp; Jewels 6.25 Ratti 5 Dhaatu Sterli...</td>\n",
       "      <td>Jewellery</td>\n",
       "      <td>872</td>\n",
       "    </tr>\n",
       "  </tbody>\n",
       "</table>\n",
       "</div>"
      ],
      "text/plain": [
       "                                           Description Product Category  \\\n",
       "357  Asian Gems & Jewels 6.25 Ratti 5 Dhaatu Sterli...       Jewellery    \n",
       "\n",
       "     Word Count  \n",
       "357         872  "
      ]
     },
     "execution_count": 35,
     "metadata": {},
     "output_type": "execute_result"
    }
   ],
   "source": [
    "df[df['Word Count']==872]"
   ]
  },
  {
   "cell_type": "code",
   "execution_count": 36,
   "id": "e3be618b",
   "metadata": {
    "scrolled": true
   },
   "outputs": [
    {
     "data": {
      "text/plain": [
       "\"Asian Gems & Jewels 6.25 Ratti 5 Dhaatu Sterling Silver, Metal, Alloy Cat's Eye NA K Ring\\n                         Price: Rs. 828\\n\\t\\t\\t\\t\\n\\t\\t\\tAsian Gem & Jewellery offers you Panch dhaatu Cultured Gemstone Finger Ring . 'ASIAN GEMS & JEWELS' and all its grading standards and content (Copyright Registered)\\n belongs to the Owners of NEW INDIA WORKS (NIW).\\nIn Hindi, '9' means 'Nav' and '5' means 'Punch'. Gem is called 'Ratna', whereas any 'Metal or Mineral or Element' is referred as 'Dhaatu'.\\nRegarding 9 Gemstones. 'Nav Ratnas' means an 'Astro Planetary' communicating team of 9 Precious and Semi Precious Gemstones those are believed to reach and connect out to 9 Planets residing, revolving in our galaxy. \\nIn the Birth Horoscope of an individual, if any planet is weak or some other planets are not sitting in the right degree/position or house or are opposing or suppressing some other planets than :-\\nRUBY (MANIK) is considered to connect, enhance and empower Planet Sun (Surya) . \\nBLUE SAPPHIRE (NEELAM) is considered to connect, enhance and empower Planet Saturn (Shani). \\nYELLOW SAPPHIRE (PUKHRAJ) is considered to connect, enhance and empower Planet Jupiter (Guru).\\nCORAL (MOONGA ) is considered to connect, enhance and empower Planet Mars (Moonga).\\nEMERALD (PANNA) is considered to connect, enhance and empower Planet Mercury (Budh).\\nPEARL (MOTI) is considered to connect, enhance and empower Planet Moon (Chandra)\\nHESSONITE (GOMEDH) is considered to connect, enhance and empower invisible Planet Rahu.\\nCAT'S EYE (LEHSUNIYA) is considered to connect, enhance and empower invisble Planet Ketu\\nDIAMOND (HIRA ) is considered to connect, enhance and empower Planet Venus (Shukra)\\nRegarding PUNCH DHAATU : Nature consists of 5 Elements space, fire, air, water, earth or \\nsay all planetary materials , some of basic metals such as iron, copper, zinc, silver, gold. \\n'Punch Daathu' team are supposed to communicate with Planets as well as earth. These 5 metals or elements found in earth those are believed to reach out motherly earth who is responsible to give birth to all beings. Our body also is a good conductor of these metals and such are said to strengthen other weaknesses of body. \\nIf in the Birth Horoscope of an individual, any planet is weak or some other planets are not sitting in th right position or degree in the concerned houses or are opposing or suppressing some other planets than wearing these '5 Auspicious Metals' also are believed to help and support the individual. \\nMoreover, Every Zodiac Sign has a positive effects by these '5 Earth Borne Metals' . They are good for over all health, wealth and happiness.\\nThese 5 metals ( Punch Dhaatus ) are in built in earth since the Earth was in making.\\nAsian Gem & Jewellery offers you Panch dhaatu Cultured Gemstone Finger Ring . 'ASIAN GEMS & JEWELS' and all its grading standards and content (Copyright Registered)\\n belongs to the Owners of NEW INDIA WORKS (NIW).\\nIn Hindi, '9' means 'Nav' and '5' means 'Punch'. Gem is called 'Ratna', whereas any 'Metal or Mineral or Element' is referred as 'Dhaatu'.\\nRegarding 9 Gemstones. 'Nav Ratnas' means an 'Astro Planetary' communicating team of 9 Precious and Semi Precious Gemstones those are believed to reach and connect out to 9 Planets residing, revolving in our galaxy. \\nIn the Birth Horoscope of an individual, if any planet is weak or some other planets are not sitting in the right degree/position or house or are opposing or suppressing some other planets than :-\\nRUBY (MANIK) is considered to connect, enhance and empower Planet Sun (Surya) . \\nBLUE SAPPHIRE (NEELAM) is considered to connect, enhance and empower Planet Saturn (Shani). \\nYELLOW SAPPHIRE (PUKHRAJ) is considered to connect, enhance and empower Planet Jupiter (Guru).\\nCORAL (MOONGA ) is considered to connect, enhance and empower Planet Mars (Moonga).\\nEMERALD (PANNA) is considered to connect, enhance and empower Planet Mercury (Budh).\\nPEARL (MOTI) is considered to connect, enhance and empower Planet Moon (Chandra)\\nHESSONITE (GOMEDH) is considered to connect, enhance and empower invisible Planet Rahu.\\nCAT'S EYE (LEHSUNIYA) is considered to connect, enhance and empower invisble Planet Ketu\\nDIAMOND (HIRA ) is considered to connect, enhance and empower Planet Venus (Shukra)\\nRegarding PUNCH DHAATU : Nature consists of 5 Elements space, fire, air, water, earth or \\nsay all planetary materials , some of basic metals such as iron, copper, zinc, silver, gold. \\n'Punch Daathu' team are supposed to communicate with Planets as well as earth. These 5 metals or elements found in earth those are believed to reach out motherly earth who is responsible to give birth to all beings. Our body also is a good conductor of these metals and such are said to strengthen other weaknesses of body. \\nIf in the Birth Horoscope of an individual, any planet is weak or some other planets are not sitting in th right position or degree in the concerned houses or are opposing or suppressing some other planets than wearing these '5 Auspicious Metals' also are believed to help and support the individual. \\nMoreover, Every Zodiac Sign has a positive effects by these '5 Earth Borne Metals' . They are good for over all health, wealth and happiness.\\nThese 5 metals ( Punch Dhaatus ) are in built in earth since the Earth was in making.\""
      ]
     },
     "execution_count": 36,
     "metadata": {},
     "output_type": "execute_result"
    }
   ],
   "source": [
    "df[df['Word Count']==872].iloc[0,0]"
   ]
  },
  {
   "cell_type": "markdown",
   "id": "f0eb8781",
   "metadata": {},
   "source": [
    "### Visualisation of the distribution of word count in a histogram:"
   ]
  },
  {
   "cell_type": "code",
   "execution_count": 38,
   "id": "8c417957",
   "metadata": {
    "scrolled": true
   },
   "outputs": [
    {
     "data": {
      "image/png": "[encoded data removed]",
      "text/plain": [
       "<Figure size 1500x1000 with 1 Axes>"
      ]
     },
     "metadata": {},
     "output_type": "display_data"
    }
   ],
   "source": [
    "plt.figure(figsize=(15,10))\n",
    "sns.histplot(data = df, x= 'Word Count', bins = 20, kde = True)\n",
    "plt.title('Histogram showing the distribution of the word count', fontsize = 20)\n",
    "plt.show()"
   ]
  },
  {
   "cell_type": "markdown",
   "id": "a5321085",
   "metadata": {},
   "source": [
    "### Visualisation of the distribution of word count in a box plot:"
   ]
  },
  {
   "cell_type": "code",
   "execution_count": 40,
   "id": "1f2dfcd6",
   "metadata": {
    "scrolled": true
   },
   "outputs": [
    {
     "data": {
      "image/png": "[encoded data removed]",
      "text/plain": [
       "<Figure size 1500x1000 with 1 Axes>"
      ]
     },
     "metadata": {},
     "output_type": "display_data"
    }
   ],
   "source": [
    "plt.figure(figsize=(15,10))\n",
    "sns.boxplot(data = df, y= 'Word Count')\n",
    "plt.title('Boxplot showing the distribution of the word count', fontsize = 20)\n",
    "plt.show()"
   ]
  },
  {
   "cell_type": "markdown",
   "id": "e4c32689",
   "metadata": {},
   "source": [
    "### Top 5 descriptions with the maximum word count:"
   ]
  },
  {
   "cell_type": "code",
   "execution_count": 42,
   "id": "c36d45f5",
   "metadata": {},
   "outputs": [
    {
     "data": {
      "text/html": [
       "<div>\n",
       "<style scoped>\n",
       "    .dataframe tbody tr th:only-of-type {\n",
       "        vertical-align: middle;\n",
       "    }\n",
       "\n",
       "    .dataframe tbody tr th {\n",
       "        vertical-align: top;\n",
       "    }\n",
       "\n",
       "    .dataframe thead th {\n",
       "        text-align: right;\n",
       "    }\n",
       "</style>\n",
       "<table border=\"1\" class=\"dataframe\">\n",
       "  <thead>\n",
       "    <tr style=\"text-align: right;\">\n",
       "      <th></th>\n",
       "      <th>index</th>\n",
       "      <th>Description</th>\n",
       "      <th>Product Category</th>\n",
       "      <th>Word Count</th>\n",
       "    </tr>\n",
       "  </thead>\n",
       "  <tbody>\n",
       "    <tr>\n",
       "      <th>0</th>\n",
       "      <td>357</td>\n",
       "      <td>Asian Gems &amp; Jewels 6.25 Ratti 5 Dhaatu Sterli...</td>\n",
       "      <td>Jewellery</td>\n",
       "      <td>872</td>\n",
       "    </tr>\n",
       "    <tr>\n",
       "      <th>1</th>\n",
       "      <td>375</td>\n",
       "      <td>Asian Gems &amp; Jewels 5.25 Ratti 5 Dhaatu Sterli...</td>\n",
       "      <td>Jewellery</td>\n",
       "      <td>869</td>\n",
       "    </tr>\n",
       "    <tr>\n",
       "      <th>2</th>\n",
       "      <td>13123</td>\n",
       "      <td>R18Jewels-Fashion&amp;U Peacock Princess Metal, En...</td>\n",
       "      <td>Jewellery</td>\n",
       "      <td>713</td>\n",
       "    </tr>\n",
       "    <tr>\n",
       "      <th>3</th>\n",
       "      <td>8045</td>\n",
       "      <td>Fastrack 9912PP15 Tees Analog Watch  - For Men...</td>\n",
       "      <td>Watches</td>\n",
       "      <td>692</td>\n",
       "    </tr>\n",
       "    <tr>\n",
       "      <th>4</th>\n",
       "      <td>13129</td>\n",
       "      <td>R18Jewels-Fashion&amp;U Princess Fashionista Metal...</td>\n",
       "      <td>Jewellery</td>\n",
       "      <td>680</td>\n",
       "    </tr>\n",
       "  </tbody>\n",
       "</table>\n",
       "</div>"
      ],
      "text/plain": [
       "   index                                        Description Product Category  \\\n",
       "0    357  Asian Gems & Jewels 6.25 Ratti 5 Dhaatu Sterli...       Jewellery    \n",
       "1    375  Asian Gems & Jewels 5.25 Ratti 5 Dhaatu Sterli...       Jewellery    \n",
       "2  13123  R18Jewels-Fashion&U Peacock Princess Metal, En...       Jewellery    \n",
       "3   8045  Fastrack 9912PP15 Tees Analog Watch  - For Men...         Watches    \n",
       "4  13129  R18Jewels-Fashion&U Princess Fashionista Metal...       Jewellery    \n",
       "\n",
       "   Word Count  \n",
       "0         872  \n",
       "1         869  \n",
       "2         713  \n",
       "3         692  \n",
       "4         680  "
      ]
     },
     "execution_count": 42,
     "metadata": {},
     "output_type": "execute_result"
    }
   ],
   "source": [
    "df.sort_values(['Word Count'], ascending=False).head().reset_index()"
   ]
  },
  {
   "cell_type": "markdown",
   "id": "4e9252c6",
   "metadata": {},
   "source": [
    "### Top 5 descriptions with the minimum word count:"
   ]
  },
  {
   "cell_type": "code",
   "execution_count": 44,
   "id": "6aa42a19",
   "metadata": {},
   "outputs": [
    {
     "data": {
      "text/html": [
       "<div>\n",
       "<style scoped>\n",
       "    .dataframe tbody tr th:only-of-type {\n",
       "        vertical-align: middle;\n",
       "    }\n",
       "\n",
       "    .dataframe tbody tr th {\n",
       "        vertical-align: top;\n",
       "    }\n",
       "\n",
       "    .dataframe thead th {\n",
       "        text-align: right;\n",
       "    }\n",
       "</style>\n",
       "<table border=\"1\" class=\"dataframe\">\n",
       "  <thead>\n",
       "    <tr style=\"text-align: right;\">\n",
       "      <th></th>\n",
       "      <th>Description</th>\n",
       "      <th>Product Category</th>\n",
       "      <th>Word Count</th>\n",
       "    </tr>\n",
       "  </thead>\n",
       "  <tbody>\n",
       "    <tr>\n",
       "      <th>9703</th>\n",
       "      <td>Klick Women's Leggings\\n                      ...</td>\n",
       "      <td>Clothing</td>\n",
       "      <td>8</td>\n",
       "    </tr>\n",
       "    <tr>\n",
       "      <th>107</th>\n",
       "      <td>La Briza Mile Boots\\n                         ...</td>\n",
       "      <td>Footwear</td>\n",
       "      <td>9</td>\n",
       "    </tr>\n",
       "    <tr>\n",
       "      <th>14750</th>\n",
       "      <td>Kristino Men's Solid Formal Shirt\\n           ...</td>\n",
       "      <td>Clothing</td>\n",
       "      <td>10</td>\n",
       "    </tr>\n",
       "    <tr>\n",
       "      <th>14751</th>\n",
       "      <td>Kristino Men's Solid Formal Shirt\\n           ...</td>\n",
       "      <td>Clothing</td>\n",
       "      <td>10</td>\n",
       "    </tr>\n",
       "    <tr>\n",
       "      <th>14943</th>\n",
       "      <td>BGS Alloy Bracelet\\n                         P...</td>\n",
       "      <td>Jewellery</td>\n",
       "      <td>10</td>\n",
       "    </tr>\n",
       "  </tbody>\n",
       "</table>\n",
       "</div>"
      ],
      "text/plain": [
       "                                             Description Product Category  \\\n",
       "9703   Klick Women's Leggings\\n                      ...        Clothing    \n",
       "107    La Briza Mile Boots\\n                         ...        Footwear    \n",
       "14750  Kristino Men's Solid Formal Shirt\\n           ...        Clothing    \n",
       "14751  Kristino Men's Solid Formal Shirt\\n           ...        Clothing    \n",
       "14943  BGS Alloy Bracelet\\n                         P...       Jewellery    \n",
       "\n",
       "       Word Count  \n",
       "9703            8  \n",
       "107             9  \n",
       "14750          10  \n",
       "14751          10  \n",
       "14943          10  "
      ]
     },
     "execution_count": 44,
     "metadata": {},
     "output_type": "execute_result"
    }
   ],
   "source": [
    "df.sort_values(['Word Count'], ascending=True).head()"
   ]
  },
  {
   "cell_type": "markdown",
   "id": "e0751968",
   "metadata": {},
   "source": [
    "### Let's create a function to count the total number of characters:\n"
   ]
  },
  {
   "cell_type": "code",
   "execution_count": 46,
   "id": "34044171",
   "metadata": {},
   "outputs": [],
   "source": [
    "def char_len_count(text):\n",
    "    return len(text)"
   ]
  },
  {
   "cell_type": "code",
   "execution_count": 47,
   "id": "d01f9c91",
   "metadata": {},
   "outputs": [
    {
     "data": {
      "text/html": [
       "<div>\n",
       "<style scoped>\n",
       "    .dataframe tbody tr th:only-of-type {\n",
       "        vertical-align: middle;\n",
       "    }\n",
       "\n",
       "    .dataframe tbody tr th {\n",
       "        vertical-align: top;\n",
       "    }\n",
       "\n",
       "    .dataframe thead th {\n",
       "        text-align: right;\n",
       "    }\n",
       "</style>\n",
       "<table border=\"1\" class=\"dataframe\">\n",
       "  <thead>\n",
       "    <tr style=\"text-align: right;\">\n",
       "      <th></th>\n",
       "      <th>Description</th>\n",
       "      <th>Product Category</th>\n",
       "      <th>Word Count</th>\n",
       "      <th>Character Length</th>\n",
       "    </tr>\n",
       "  </thead>\n",
       "  <tbody>\n",
       "    <tr>\n",
       "      <th>0</th>\n",
       "      <td>Key Features of Alisha Solid Women's Cycling S...</td>\n",
       "      <td>Clothing</td>\n",
       "      <td>64</td>\n",
       "      <td>410</td>\n",
       "    </tr>\n",
       "    <tr>\n",
       "      <th>1</th>\n",
       "      <td>Key Features of AW Bellies Sandals Wedges Heel...</td>\n",
       "      <td>Footwear</td>\n",
       "      <td>107</td>\n",
       "      <td>650</td>\n",
       "    </tr>\n",
       "    <tr>\n",
       "      <th>2</th>\n",
       "      <td>Key Features of Alisha Solid Women's Cycling S...</td>\n",
       "      <td>Clothing</td>\n",
       "      <td>63</td>\n",
       "      <td>403</td>\n",
       "    </tr>\n",
       "    <tr>\n",
       "      <th>3</th>\n",
       "      <td>Key Features of Alisha Solid Women's Cycling S...</td>\n",
       "      <td>Clothing</td>\n",
       "      <td>65</td>\n",
       "      <td>416</td>\n",
       "    </tr>\n",
       "    <tr>\n",
       "      <th>4</th>\n",
       "      <td>Key Features of dilli bazaaar Bellies, Corpora...</td>\n",
       "      <td>Footwear</td>\n",
       "      <td>64</td>\n",
       "      <td>428</td>\n",
       "    </tr>\n",
       "  </tbody>\n",
       "</table>\n",
       "</div>"
      ],
      "text/plain": [
       "                                         Description Product Category  \\\n",
       "0  Key Features of Alisha Solid Women's Cycling S...        Clothing    \n",
       "1  Key Features of AW Bellies Sandals Wedges Heel...        Footwear    \n",
       "2  Key Features of Alisha Solid Women's Cycling S...        Clothing    \n",
       "3  Key Features of Alisha Solid Women's Cycling S...        Clothing    \n",
       "4  Key Features of dilli bazaaar Bellies, Corpora...        Footwear    \n",
       "\n",
       "   Word Count  Character Length  \n",
       "0          64               410  \n",
       "1         107               650  \n",
       "2          63               403  \n",
       "3          65               416  \n",
       "4          64               428  "
      ]
     },
     "execution_count": 47,
     "metadata": {},
     "output_type": "execute_result"
    }
   ],
   "source": [
    "df['Character Length'] = df['Description'].apply(lambda x:char_len_count(x))\n",
    "df.head()"
   ]
  },
  {
   "cell_type": "code",
   "execution_count": 48,
   "id": "3198e9b4",
   "metadata": {
    "scrolled": true
   },
   "outputs": [
    {
     "name": "stdout",
     "output_type": "stream",
     "text": [
      "The total character length is 5408132\n"
     ]
    }
   ],
   "source": [
    "total_char_length = df['Character Length'].sum()\n",
    "print(f\"The total character length is {total_char_length}\")"
   ]
  },
  {
   "cell_type": "code",
   "execution_count": 49,
   "id": "7f89b79a",
   "metadata": {},
   "outputs": [
    {
     "name": "stdout",
     "output_type": "stream",
     "text": [
      "The average character length is 410.76500075953214\n"
     ]
    }
   ],
   "source": [
    "avg_char_length = df['Character Length'].mean()\n",
    "print(f\"The average character length is {avg_char_length}\")"
   ]
  },
  {
   "cell_type": "code",
   "execution_count": 50,
   "id": "43ea6bf0",
   "metadata": {
    "scrolled": true
   },
   "outputs": [
    {
     "data": {
      "text/plain": [
       "count    13166.000000\n",
       "mean       410.765001\n",
       "std        402.331821\n",
       "min         74.000000\n",
       "25%        200.000000\n",
       "50%        227.000000\n",
       "75%        459.750000\n",
       "max       5309.000000\n",
       "Name: Character Length, dtype: float64"
      ]
     },
     "execution_count": 50,
     "metadata": {},
     "output_type": "execute_result"
    }
   ],
   "source": [
    "df['Character Length'].describe()"
   ]
  },
  {
   "cell_type": "markdown",
   "id": "4baba14b",
   "metadata": {},
   "source": [
    "### Visualisation of the distribution of character count in a histogram:"
   ]
  },
  {
   "cell_type": "code",
   "execution_count": 52,
   "id": "16835691",
   "metadata": {},
   "outputs": [
    {
     "data": {
      "image/png": "[encoded data removed]",
      "text/plain": [
       "<Figure size 1500x1000 with 1 Axes>"
      ]
     },
     "metadata": {},
     "output_type": "display_data"
    }
   ],
   "source": [
    "plt.figure(figsize=(15,10))\n",
    "sns.histplot(data = df, x='Character Length', bins = 20, kde = True)\n",
    "plt.title('Histogram showing the distribution of the character count', fontsize = 20)\n",
    "plt.show()"
   ]
  },
  {
   "cell_type": "code",
   "execution_count": 53,
   "id": "d06f7c6a",
   "metadata": {},
   "outputs": [],
   "source": [
    "df_prod_count = df.groupby(['Product Category'])[['Word Count','Character Length']].mean().sort_values(['Word Count','Character Length'], ascending = False).reset_index()"
   ]
  },
  {
   "cell_type": "code",
   "execution_count": 54,
   "id": "30c20fa8",
   "metadata": {},
   "outputs": [
    {
     "data": {
      "text/html": [
       "<div>\n",
       "<style scoped>\n",
       "    .dataframe tbody tr th:only-of-type {\n",
       "        vertical-align: middle;\n",
       "    }\n",
       "\n",
       "    .dataframe tbody tr th {\n",
       "        vertical-align: top;\n",
       "    }\n",
       "\n",
       "    .dataframe thead th {\n",
       "        text-align: right;\n",
       "    }\n",
       "</style>\n",
       "<table border=\"1\" class=\"dataframe\">\n",
       "  <thead>\n",
       "    <tr style=\"text-align: right;\">\n",
       "      <th></th>\n",
       "      <th>Product Category</th>\n",
       "      <th>Word Count</th>\n",
       "      <th>Character Length</th>\n",
       "    </tr>\n",
       "  </thead>\n",
       "  <tbody>\n",
       "    <tr>\n",
       "      <th>0</th>\n",
       "      <td>Mobiles &amp; Accessories</td>\n",
       "      <td>119.099800</td>\n",
       "      <td>742.247505</td>\n",
       "    </tr>\n",
       "    <tr>\n",
       "      <th>1</th>\n",
       "      <td>Kitchen &amp; Dining</td>\n",
       "      <td>100.716172</td>\n",
       "      <td>600.231023</td>\n",
       "    </tr>\n",
       "    <tr>\n",
       "      <th>2</th>\n",
       "      <td>Home Decor &amp; Festive Needs</td>\n",
       "      <td>98.259076</td>\n",
       "      <td>606.024752</td>\n",
       "    </tr>\n",
       "    <tr>\n",
       "      <th>3</th>\n",
       "      <td>Computers</td>\n",
       "      <td>87.103970</td>\n",
       "      <td>552.837429</td>\n",
       "    </tr>\n",
       "    <tr>\n",
       "      <th>4</th>\n",
       "      <td>Bags, Wallets &amp; Belts</td>\n",
       "      <td>84.756579</td>\n",
       "      <td>537.407895</td>\n",
       "    </tr>\n",
       "    <tr>\n",
       "      <th>5</th>\n",
       "      <td>Automotive</td>\n",
       "      <td>80.649198</td>\n",
       "      <td>485.563636</td>\n",
       "    </tr>\n",
       "    <tr>\n",
       "      <th>6</th>\n",
       "      <td>Baby Care</td>\n",
       "      <td>70.153846</td>\n",
       "      <td>435.779487</td>\n",
       "    </tr>\n",
       "    <tr>\n",
       "      <th>7</th>\n",
       "      <td>Pens &amp; Stationery</td>\n",
       "      <td>59.517857</td>\n",
       "      <td>379.107143</td>\n",
       "    </tr>\n",
       "    <tr>\n",
       "      <th>8</th>\n",
       "      <td>Clothing</td>\n",
       "      <td>59.384087</td>\n",
       "      <td>370.345700</td>\n",
       "    </tr>\n",
       "    <tr>\n",
       "      <th>9</th>\n",
       "      <td>Tools &amp; Hardware</td>\n",
       "      <td>55.647975</td>\n",
       "      <td>358.165109</td>\n",
       "    </tr>\n",
       "    <tr>\n",
       "      <th>10</th>\n",
       "      <td>Watches</td>\n",
       "      <td>54.524715</td>\n",
       "      <td>346.011407</td>\n",
       "    </tr>\n",
       "    <tr>\n",
       "      <th>11</th>\n",
       "      <td>Footwear</td>\n",
       "      <td>52.536437</td>\n",
       "      <td>331.056680</td>\n",
       "    </tr>\n",
       "    <tr>\n",
       "      <th>12</th>\n",
       "      <td>Jewellery</td>\n",
       "      <td>50.978932</td>\n",
       "      <td>330.999248</td>\n",
       "    </tr>\n",
       "    <tr>\n",
       "      <th>13</th>\n",
       "      <td>Toys &amp; School Supplies</td>\n",
       "      <td>45.977099</td>\n",
       "      <td>291.847328</td>\n",
       "    </tr>\n",
       "  </tbody>\n",
       "</table>\n",
       "</div>"
      ],
      "text/plain": [
       "               Product Category  Word Count  Character Length\n",
       "0        Mobiles & Accessories   119.099800        742.247505\n",
       "1             Kitchen & Dining   100.716172        600.231023\n",
       "2   Home Decor & Festive Needs    98.259076        606.024752\n",
       "3                    Computers    87.103970        552.837429\n",
       "4        Bags, Wallets & Belts    84.756579        537.407895\n",
       "5                   Automotive    80.649198        485.563636\n",
       "6                    Baby Care    70.153846        435.779487\n",
       "7            Pens & Stationery    59.517857        379.107143\n",
       "8                     Clothing    59.384087        370.345700\n",
       "9             Tools & Hardware    55.647975        358.165109\n",
       "10                     Watches    54.524715        346.011407\n",
       "11                    Footwear    52.536437        331.056680\n",
       "12                   Jewellery    50.978932        330.999248\n",
       "13      Toys & School Supplies    45.977099        291.847328"
      ]
     },
     "execution_count": 54,
     "metadata": {},
     "output_type": "execute_result"
    }
   ],
   "source": [
    "df_prod_count"
   ]
  },
  {
   "cell_type": "code",
   "execution_count": 55,
   "id": "a61ce2fe",
   "metadata": {},
   "outputs": [
    {
     "data": {
      "image/png": "[encoded data removed]",
      "text/plain": [
       "<Figure size 1500x1000 with 1 Axes>"
      ]
     },
     "metadata": {},
     "output_type": "display_data"
    }
   ],
   "source": [
    "plt.figure(figsize = (15,10))\n",
    "sns.barplot(data = df_prod_count, x='Product Category',y='Word Count')\n",
    "for index, value in enumerate(df_prod_count['Word Count']):\n",
    "    plt.text(index,value+3,np.round(df_prod_count['Word Count'].iloc[index],2),rotation = 90)\n",
    "plt.title('Bar plot to show the distribution of Product category vs word count', fontsize = 20)\n",
    "plt.ylim(0,140)\n",
    "plt.xticks(rotation = 90)\n",
    "plt.show()"
   ]
  },
  {
   "cell_type": "code",
   "execution_count": 56,
   "id": "9d14be21",
   "metadata": {},
   "outputs": [
    {
     "data": {
      "image/png": "[encoded data removed]",
      "text/plain": [
       "<Figure size 1500x1000 with 1 Axes>"
      ]
     },
     "metadata": {},
     "output_type": "display_data"
    }
   ],
   "source": [
    "plt.figure(figsize = (15,10))\n",
    "sns.barplot(data = df_prod_count, x='Product Category',y='Character Length')\n",
    "for index, value in enumerate(df_prod_count['Character Length']):\n",
    "    plt.text(index,value+20,np.round(df_prod_count['Character Length'].iloc[index],2),rotation = 90)\n",
    "plt.title('Bar plot to show the distribution of Product Category vs Character Length', fontsize = 20)\n",
    "plt.ylim(0,900)\n",
    "plt.xticks(rotation = 90)\n",
    "plt.show()"
   ]
  },
  {
   "cell_type": "markdown",
   "id": "bc83a60a",
   "metadata": {},
   "source": [
    "## Text Pre-Processing:"
   ]
  },
  {
   "cell_type": "code",
   "execution_count": 58,
   "id": "3b2d20d6",
   "metadata": {},
   "outputs": [
    {
     "data": {
      "text/html": [
       "<div>\n",
       "<style scoped>\n",
       "    .dataframe tbody tr th:only-of-type {\n",
       "        vertical-align: middle;\n",
       "    }\n",
       "\n",
       "    .dataframe tbody tr th {\n",
       "        vertical-align: top;\n",
       "    }\n",
       "\n",
       "    .dataframe thead th {\n",
       "        text-align: right;\n",
       "    }\n",
       "</style>\n",
       "<table border=\"1\" class=\"dataframe\">\n",
       "  <thead>\n",
       "    <tr style=\"text-align: right;\">\n",
       "      <th></th>\n",
       "      <th>Description</th>\n",
       "      <th>Product Category</th>\n",
       "      <th>Word Count</th>\n",
       "      <th>Character Length</th>\n",
       "    </tr>\n",
       "  </thead>\n",
       "  <tbody>\n",
       "    <tr>\n",
       "      <th>0</th>\n",
       "      <td>Key Features of Alisha Solid Women's Cycling S...</td>\n",
       "      <td>Clothing</td>\n",
       "      <td>64</td>\n",
       "      <td>410</td>\n",
       "    </tr>\n",
       "    <tr>\n",
       "      <th>1</th>\n",
       "      <td>Key Features of AW Bellies Sandals Wedges Heel...</td>\n",
       "      <td>Footwear</td>\n",
       "      <td>107</td>\n",
       "      <td>650</td>\n",
       "    </tr>\n",
       "    <tr>\n",
       "      <th>2</th>\n",
       "      <td>Key Features of Alisha Solid Women's Cycling S...</td>\n",
       "      <td>Clothing</td>\n",
       "      <td>63</td>\n",
       "      <td>403</td>\n",
       "    </tr>\n",
       "    <tr>\n",
       "      <th>3</th>\n",
       "      <td>Key Features of Alisha Solid Women's Cycling S...</td>\n",
       "      <td>Clothing</td>\n",
       "      <td>65</td>\n",
       "      <td>416</td>\n",
       "    </tr>\n",
       "    <tr>\n",
       "      <th>4</th>\n",
       "      <td>Key Features of dilli bazaaar Bellies, Corpora...</td>\n",
       "      <td>Footwear</td>\n",
       "      <td>64</td>\n",
       "      <td>428</td>\n",
       "    </tr>\n",
       "  </tbody>\n",
       "</table>\n",
       "</div>"
      ],
      "text/plain": [
       "                                         Description Product Category  \\\n",
       "0  Key Features of Alisha Solid Women's Cycling S...        Clothing    \n",
       "1  Key Features of AW Bellies Sandals Wedges Heel...        Footwear    \n",
       "2  Key Features of Alisha Solid Women's Cycling S...        Clothing    \n",
       "3  Key Features of Alisha Solid Women's Cycling S...        Clothing    \n",
       "4  Key Features of dilli bazaaar Bellies, Corpora...        Footwear    \n",
       "\n",
       "   Word Count  Character Length  \n",
       "0          64               410  \n",
       "1         107               650  \n",
       "2          63               403  \n",
       "3          65               416  \n",
       "4          64               428  "
      ]
     },
     "execution_count": 58,
     "metadata": {},
     "output_type": "execute_result"
    }
   ],
   "source": [
    "df.head()"
   ]
  },
  {
   "cell_type": "markdown",
   "id": "b7cae5dc",
   "metadata": {},
   "source": [
    "### Text cleaning"
   ]
  },
  {
   "cell_type": "markdown",
   "id": "a5f73110",
   "metadata": {},
   "source": [
    "### Removing the stop words:"
   ]
  },
  {
   "cell_type": "code",
   "execution_count": 61,
   "id": "e1f20364",
   "metadata": {},
   "outputs": [],
   "source": [
    "sw = stopwords.words('english')"
   ]
  },
  {
   "cell_type": "markdown",
   "id": "1ec3bf42",
   "metadata": {},
   "source": [
    "### We will define multiple functions to clean the description:"
   ]
  },
  {
   "cell_type": "code",
   "execution_count": 63,
   "id": "e2618d2d",
   "metadata": {},
   "outputs": [],
   "source": [
    "def remove_stopwords(text):\n",
    "    word_list = [w for w in text.split() if w not in sw]\n",
    "    return \" \".join(word_list)"
   ]
  },
  {
   "cell_type": "code",
   "execution_count": 64,
   "id": "b38e084b",
   "metadata": {},
   "outputs": [],
   "source": [
    "def lower_case(text):\n",
    "    return text.lower()"
   ]
  },
  {
   "cell_type": "code",
   "execution_count": 65,
   "id": "c6d3d0d9",
   "metadata": {},
   "outputs": [],
   "source": [
    "def remove_numbers(text):\n",
    "    removed_word_list = re.sub(r'\\d+',' ',text)\n",
    "    return removed_word_list"
   ]
  },
  {
   "cell_type": "code",
   "execution_count": 66,
   "id": "50d91404",
   "metadata": {},
   "outputs": [
    {
     "data": {
      "text/plain": [
       "'!\"#$%&\\'()*+,-./:;<=>?@[\\\\]^_`{|}~'"
      ]
     },
     "execution_count": 66,
     "metadata": {},
     "output_type": "execute_result"
    }
   ],
   "source": [
    "string.punctuation"
   ]
  },
  {
   "cell_type": "code",
   "execution_count": 67,
   "id": "26de368f",
   "metadata": {},
   "outputs": [],
   "source": [
    "def remove_punct(text):\n",
    "    for chr in text:\n",
    "        if chr in string.punctuation:\n",
    "            text = text.replace(chr,\" \")\n",
    "    return text  "
   ]
  },
  {
   "cell_type": "code",
   "execution_count": 68,
   "id": "e1860091",
   "metadata": {},
   "outputs": [],
   "source": [
    "def remove_space(text):\n",
    "    return \" \".join(text.split())"
   ]
  },
  {
   "cell_type": "markdown",
   "id": "2044708f",
   "metadata": {},
   "source": [
    "### We will define a final function to give the result of the completely cleaned text by using all the previous functions we had created earlier:"
   ]
  },
  {
   "cell_type": "code",
   "execution_count": 70,
   "id": "1be4acef",
   "metadata": {},
   "outputs": [],
   "source": [
    "def cleaned_description (text):\n",
    "    text = lower_case(text)\n",
    "    text = remove_stopwords(text)\n",
    "    text = remove_punct(text)\n",
    "    text = remove_numbers(text)\n",
    "    text = remove_space(text)\n",
    "    return text"
   ]
  },
  {
   "cell_type": "code",
   "execution_count": 71,
   "id": "e3a27456",
   "metadata": {},
   "outputs": [
    {
     "data": {
      "text/html": [
       "<div>\n",
       "<style scoped>\n",
       "    .dataframe tbody tr th:only-of-type {\n",
       "        vertical-align: middle;\n",
       "    }\n",
       "\n",
       "    .dataframe tbody tr th {\n",
       "        vertical-align: top;\n",
       "    }\n",
       "\n",
       "    .dataframe thead th {\n",
       "        text-align: right;\n",
       "    }\n",
       "</style>\n",
       "<table border=\"1\" class=\"dataframe\">\n",
       "  <thead>\n",
       "    <tr style=\"text-align: right;\">\n",
       "      <th></th>\n",
       "      <th>Description</th>\n",
       "      <th>Product Category</th>\n",
       "      <th>Word Count</th>\n",
       "      <th>Character Length</th>\n",
       "    </tr>\n",
       "  </thead>\n",
       "  <tbody>\n",
       "    <tr>\n",
       "      <th>8691</th>\n",
       "      <td>Royal Diamond Jewellery Charisma Gold, Yellow ...</td>\n",
       "      <td>Jewellery</td>\n",
       "      <td>178</td>\n",
       "      <td>1092</td>\n",
       "    </tr>\n",
       "  </tbody>\n",
       "</table>\n",
       "</div>"
      ],
      "text/plain": [
       "                                            Description Product Category  \\\n",
       "8691  Royal Diamond Jewellery Charisma Gold, Yellow ...       Jewellery    \n",
       "\n",
       "      Word Count  Character Length  \n",
       "8691         178              1092  "
      ]
     },
     "execution_count": 71,
     "metadata": {},
     "output_type": "execute_result"
    }
   ],
   "source": [
    "df.sample()"
   ]
  },
  {
   "cell_type": "code",
   "execution_count": 72,
   "id": "d3e72421",
   "metadata": {},
   "outputs": [],
   "source": [
    "sample_text = df['Description'][0]\n"
   ]
  },
  {
   "cell_type": "code",
   "execution_count": 73,
   "id": "a1b55a5c",
   "metadata": {},
   "outputs": [
    {
     "data": {
      "text/plain": [
       "\"Key Features of Alisha Solid Women's Cycling Shorts Cotton Lycra Navy, Red, Navy,Specifications of Alisha Solid Women's Cycling Shorts Shorts Details Number of Contents in Sales Package Pack of 3 Fabric Cotton Lycra Type Cycling Shorts General Details Pattern Solid Ideal For Women's Fabric Care Gentle Machine Wash in Lukewarm Water, Do Not Bleach Additional Details Style Code ALTHT_3P_21 In the Box 3 shorts\""
      ]
     },
     "execution_count": 73,
     "metadata": {},
     "output_type": "execute_result"
    }
   ],
   "source": [
    "sample_text"
   ]
  },
  {
   "cell_type": "code",
   "execution_count": 74,
   "id": "7bb0bf35",
   "metadata": {},
   "outputs": [
    {
     "data": {
      "text/plain": [
       "410"
      ]
     },
     "execution_count": 74,
     "metadata": {},
     "output_type": "execute_result"
    }
   ],
   "source": [
    "len(sample_text)"
   ]
  },
  {
   "cell_type": "code",
   "execution_count": 75,
   "id": "1578e792",
   "metadata": {},
   "outputs": [
    {
     "data": {
      "text/plain": [
       "'key features alisha solid women s cycling shorts cotton lycra navy red navy specifications alisha solid women s cycling shorts shorts details number contents sales package pack fabric cotton lycra type cycling shorts general details pattern solid ideal women s fabric care gentle machine wash lukewarm water bleach additional details style code altht p box shorts'"
      ]
     },
     "execution_count": 75,
     "metadata": {},
     "output_type": "execute_result"
    }
   ],
   "source": [
    "cleaned_text = cleaned_description(sample_text)\n",
    "cleaned_text"
   ]
  },
  {
   "cell_type": "code",
   "execution_count": 76,
   "id": "8ccf6366",
   "metadata": {},
   "outputs": [
    {
     "data": {
      "text/plain": [
       "363"
      ]
     },
     "execution_count": 76,
     "metadata": {},
     "output_type": "execute_result"
    }
   ],
   "source": [
    "len(cleaned_text)"
   ]
  },
  {
   "cell_type": "code",
   "execution_count": 77,
   "id": "fdff46f1",
   "metadata": {},
   "outputs": [
    {
     "data": {
      "text/html": [
       "<div>\n",
       "<style scoped>\n",
       "    .dataframe tbody tr th:only-of-type {\n",
       "        vertical-align: middle;\n",
       "    }\n",
       "\n",
       "    .dataframe tbody tr th {\n",
       "        vertical-align: top;\n",
       "    }\n",
       "\n",
       "    .dataframe thead th {\n",
       "        text-align: right;\n",
       "    }\n",
       "</style>\n",
       "<table border=\"1\" class=\"dataframe\">\n",
       "  <thead>\n",
       "    <tr style=\"text-align: right;\">\n",
       "      <th></th>\n",
       "      <th>Description</th>\n",
       "      <th>Product Category</th>\n",
       "      <th>Word Count</th>\n",
       "      <th>Character Length</th>\n",
       "      <th>Cleaned Description</th>\n",
       "    </tr>\n",
       "  </thead>\n",
       "  <tbody>\n",
       "    <tr>\n",
       "      <th>0</th>\n",
       "      <td>Key Features of Alisha Solid Women's Cycling S...</td>\n",
       "      <td>Clothing</td>\n",
       "      <td>64</td>\n",
       "      <td>410</td>\n",
       "      <td>key features alisha solid women s cycling shor...</td>\n",
       "    </tr>\n",
       "    <tr>\n",
       "      <th>1</th>\n",
       "      <td>Key Features of AW Bellies Sandals Wedges Heel...</td>\n",
       "      <td>Footwear</td>\n",
       "      <td>107</td>\n",
       "      <td>650</td>\n",
       "      <td>key features aw bellies sandals wedges heel ca...</td>\n",
       "    </tr>\n",
       "    <tr>\n",
       "      <th>2</th>\n",
       "      <td>Key Features of Alisha Solid Women's Cycling S...</td>\n",
       "      <td>Clothing</td>\n",
       "      <td>63</td>\n",
       "      <td>403</td>\n",
       "      <td>key features alisha solid women s cycling shor...</td>\n",
       "    </tr>\n",
       "    <tr>\n",
       "      <th>3</th>\n",
       "      <td>Key Features of Alisha Solid Women's Cycling S...</td>\n",
       "      <td>Clothing</td>\n",
       "      <td>65</td>\n",
       "      <td>416</td>\n",
       "      <td>key features alisha solid women s cycling shor...</td>\n",
       "    </tr>\n",
       "    <tr>\n",
       "      <th>4</th>\n",
       "      <td>Key Features of dilli bazaaar Bellies, Corpora...</td>\n",
       "      <td>Footwear</td>\n",
       "      <td>64</td>\n",
       "      <td>428</td>\n",
       "      <td>key features dilli bazaaar bellies corporate c...</td>\n",
       "    </tr>\n",
       "  </tbody>\n",
       "</table>\n",
       "</div>"
      ],
      "text/plain": [
       "                                         Description Product Category  \\\n",
       "0  Key Features of Alisha Solid Women's Cycling S...        Clothing    \n",
       "1  Key Features of AW Bellies Sandals Wedges Heel...        Footwear    \n",
       "2  Key Features of Alisha Solid Women's Cycling S...        Clothing    \n",
       "3  Key Features of Alisha Solid Women's Cycling S...        Clothing    \n",
       "4  Key Features of dilli bazaaar Bellies, Corpora...        Footwear    \n",
       "\n",
       "   Word Count  Character Length  \\\n",
       "0          64               410   \n",
       "1         107               650   \n",
       "2          63               403   \n",
       "3          65               416   \n",
       "4          64               428   \n",
       "\n",
       "                                 Cleaned Description  \n",
       "0  key features alisha solid women s cycling shor...  \n",
       "1  key features aw bellies sandals wedges heel ca...  \n",
       "2  key features alisha solid women s cycling shor...  \n",
       "3  key features alisha solid women s cycling shor...  \n",
       "4  key features dilli bazaaar bellies corporate c...  "
      ]
     },
     "execution_count": 77,
     "metadata": {},
     "output_type": "execute_result"
    }
   ],
   "source": [
    "df['Cleaned Description'] = df['Description'].apply(lambda x:cleaned_description(x))\n",
    "df.head()"
   ]
  },
  {
   "cell_type": "code",
   "execution_count": 78,
   "id": "30cbf53c",
   "metadata": {},
   "outputs": [],
   "source": [
    "def Cleaned_word_count(text):\n",
    "    text = len(text.split())\n",
    "    return text"
   ]
  },
  {
   "cell_type": "code",
   "execution_count": 79,
   "id": "cc5cda94",
   "metadata": {},
   "outputs": [],
   "source": [
    "def Cleaned_character_count(text):\n",
    "    text = len(text)\n",
    "    return text"
   ]
  },
  {
   "cell_type": "code",
   "execution_count": 80,
   "id": "dd38cf18",
   "metadata": {},
   "outputs": [
    {
     "data": {
      "text/html": [
       "<div>\n",
       "<style scoped>\n",
       "    .dataframe tbody tr th:only-of-type {\n",
       "        vertical-align: middle;\n",
       "    }\n",
       "\n",
       "    .dataframe tbody tr th {\n",
       "        vertical-align: top;\n",
       "    }\n",
       "\n",
       "    .dataframe thead th {\n",
       "        text-align: right;\n",
       "    }\n",
       "</style>\n",
       "<table border=\"1\" class=\"dataframe\">\n",
       "  <thead>\n",
       "    <tr style=\"text-align: right;\">\n",
       "      <th></th>\n",
       "      <th>Description</th>\n",
       "      <th>Product Category</th>\n",
       "      <th>Word Count</th>\n",
       "      <th>Character Length</th>\n",
       "      <th>Cleaned Description</th>\n",
       "      <th>Cleaned Word Count</th>\n",
       "    </tr>\n",
       "  </thead>\n",
       "  <tbody>\n",
       "    <tr>\n",
       "      <th>0</th>\n",
       "      <td>Key Features of Alisha Solid Women's Cycling S...</td>\n",
       "      <td>Clothing</td>\n",
       "      <td>64</td>\n",
       "      <td>410</td>\n",
       "      <td>key features alisha solid women s cycling shor...</td>\n",
       "      <td>56</td>\n",
       "    </tr>\n",
       "    <tr>\n",
       "      <th>1</th>\n",
       "      <td>Key Features of AW Bellies Sandals Wedges Heel...</td>\n",
       "      <td>Footwear</td>\n",
       "      <td>107</td>\n",
       "      <td>650</td>\n",
       "      <td>key features aw bellies sandals wedges heel ca...</td>\n",
       "      <td>81</td>\n",
       "    </tr>\n",
       "    <tr>\n",
       "      <th>2</th>\n",
       "      <td>Key Features of Alisha Solid Women's Cycling S...</td>\n",
       "      <td>Clothing</td>\n",
       "      <td>63</td>\n",
       "      <td>403</td>\n",
       "      <td>key features alisha solid women s cycling shor...</td>\n",
       "      <td>54</td>\n",
       "    </tr>\n",
       "    <tr>\n",
       "      <th>3</th>\n",
       "      <td>Key Features of Alisha Solid Women's Cycling S...</td>\n",
       "      <td>Clothing</td>\n",
       "      <td>65</td>\n",
       "      <td>416</td>\n",
       "      <td>key features alisha solid women s cycling shor...</td>\n",
       "      <td>57</td>\n",
       "    </tr>\n",
       "    <tr>\n",
       "      <th>4</th>\n",
       "      <td>Key Features of dilli bazaaar Bellies, Corpora...</td>\n",
       "      <td>Footwear</td>\n",
       "      <td>64</td>\n",
       "      <td>428</td>\n",
       "      <td>key features dilli bazaaar bellies corporate c...</td>\n",
       "      <td>55</td>\n",
       "    </tr>\n",
       "  </tbody>\n",
       "</table>\n",
       "</div>"
      ],
      "text/plain": [
       "                                         Description Product Category  \\\n",
       "0  Key Features of Alisha Solid Women's Cycling S...        Clothing    \n",
       "1  Key Features of AW Bellies Sandals Wedges Heel...        Footwear    \n",
       "2  Key Features of Alisha Solid Women's Cycling S...        Clothing    \n",
       "3  Key Features of Alisha Solid Women's Cycling S...        Clothing    \n",
       "4  Key Features of dilli bazaaar Bellies, Corpora...        Footwear    \n",
       "\n",
       "   Word Count  Character Length  \\\n",
       "0          64               410   \n",
       "1         107               650   \n",
       "2          63               403   \n",
       "3          65               416   \n",
       "4          64               428   \n",
       "\n",
       "                                 Cleaned Description  Cleaned Word Count  \n",
       "0  key features alisha solid women s cycling shor...                  56  \n",
       "1  key features aw bellies sandals wedges heel ca...                  81  \n",
       "2  key features alisha solid women s cycling shor...                  54  \n",
       "3  key features alisha solid women s cycling shor...                  57  \n",
       "4  key features dilli bazaaar bellies corporate c...                  55  "
      ]
     },
     "execution_count": 80,
     "metadata": {},
     "output_type": "execute_result"
    }
   ],
   "source": [
    "df['Cleaned Word Count'] = df['Cleaned Description'].apply(lambda x:Cleaned_word_count(x))\n",
    "df.head()\n"
   ]
  },
  {
   "cell_type": "code",
   "execution_count": 81,
   "id": "b24ef7e6",
   "metadata": {},
   "outputs": [
    {
     "data": {
      "text/html": [
       "<div>\n",
       "<style scoped>\n",
       "    .dataframe tbody tr th:only-of-type {\n",
       "        vertical-align: middle;\n",
       "    }\n",
       "\n",
       "    .dataframe tbody tr th {\n",
       "        vertical-align: top;\n",
       "    }\n",
       "\n",
       "    .dataframe thead th {\n",
       "        text-align: right;\n",
       "    }\n",
       "</style>\n",
       "<table border=\"1\" class=\"dataframe\">\n",
       "  <thead>\n",
       "    <tr style=\"text-align: right;\">\n",
       "      <th></th>\n",
       "      <th>Description</th>\n",
       "      <th>Product Category</th>\n",
       "      <th>Word Count</th>\n",
       "      <th>Character Length</th>\n",
       "      <th>Cleaned Description</th>\n",
       "      <th>Cleaned Word Count</th>\n",
       "      <th>Cleaned Character Count</th>\n",
       "    </tr>\n",
       "  </thead>\n",
       "  <tbody>\n",
       "    <tr>\n",
       "      <th>0</th>\n",
       "      <td>Key Features of Alisha Solid Women's Cycling S...</td>\n",
       "      <td>Clothing</td>\n",
       "      <td>64</td>\n",
       "      <td>410</td>\n",
       "      <td>key features alisha solid women s cycling shor...</td>\n",
       "      <td>56</td>\n",
       "      <td>363</td>\n",
       "    </tr>\n",
       "    <tr>\n",
       "      <th>1</th>\n",
       "      <td>Key Features of AW Bellies Sandals Wedges Heel...</td>\n",
       "      <td>Footwear</td>\n",
       "      <td>107</td>\n",
       "      <td>650</td>\n",
       "      <td>key features aw bellies sandals wedges heel ca...</td>\n",
       "      <td>81</td>\n",
       "      <td>538</td>\n",
       "    </tr>\n",
       "    <tr>\n",
       "      <th>2</th>\n",
       "      <td>Key Features of Alisha Solid Women's Cycling S...</td>\n",
       "      <td>Clothing</td>\n",
       "      <td>63</td>\n",
       "      <td>403</td>\n",
       "      <td>key features alisha solid women s cycling shor...</td>\n",
       "      <td>54</td>\n",
       "      <td>358</td>\n",
       "    </tr>\n",
       "    <tr>\n",
       "      <th>3</th>\n",
       "      <td>Key Features of Alisha Solid Women's Cycling S...</td>\n",
       "      <td>Clothing</td>\n",
       "      <td>65</td>\n",
       "      <td>416</td>\n",
       "      <td>key features alisha solid women s cycling shor...</td>\n",
       "      <td>57</td>\n",
       "      <td>369</td>\n",
       "    </tr>\n",
       "    <tr>\n",
       "      <th>4</th>\n",
       "      <td>Key Features of dilli bazaaar Bellies, Corpora...</td>\n",
       "      <td>Footwear</td>\n",
       "      <td>64</td>\n",
       "      <td>428</td>\n",
       "      <td>key features dilli bazaaar bellies corporate c...</td>\n",
       "      <td>55</td>\n",
       "      <td>381</td>\n",
       "    </tr>\n",
       "  </tbody>\n",
       "</table>\n",
       "</div>"
      ],
      "text/plain": [
       "                                         Description Product Category  \\\n",
       "0  Key Features of Alisha Solid Women's Cycling S...        Clothing    \n",
       "1  Key Features of AW Bellies Sandals Wedges Heel...        Footwear    \n",
       "2  Key Features of Alisha Solid Women's Cycling S...        Clothing    \n",
       "3  Key Features of Alisha Solid Women's Cycling S...        Clothing    \n",
       "4  Key Features of dilli bazaaar Bellies, Corpora...        Footwear    \n",
       "\n",
       "   Word Count  Character Length  \\\n",
       "0          64               410   \n",
       "1         107               650   \n",
       "2          63               403   \n",
       "3          65               416   \n",
       "4          64               428   \n",
       "\n",
       "                                 Cleaned Description  Cleaned Word Count  \\\n",
       "0  key features alisha solid women s cycling shor...                  56   \n",
       "1  key features aw bellies sandals wedges heel ca...                  81   \n",
       "2  key features alisha solid women s cycling shor...                  54   \n",
       "3  key features alisha solid women s cycling shor...                  57   \n",
       "4  key features dilli bazaaar bellies corporate c...                  55   \n",
       "\n",
       "   Cleaned Character Count  \n",
       "0                      363  \n",
       "1                      538  \n",
       "2                      358  \n",
       "3                      369  \n",
       "4                      381  "
      ]
     },
     "execution_count": 81,
     "metadata": {},
     "output_type": "execute_result"
    }
   ],
   "source": [
    "df['Cleaned Character Count'] = df['Cleaned Description'].apply(lambda x:Cleaned_character_count(x))\n",
    "df.head()"
   ]
  },
  {
   "cell_type": "code",
   "execution_count": 82,
   "id": "45514594",
   "metadata": {},
   "outputs": [
    {
     "data": {
      "text/html": [
       "<div>\n",
       "<style scoped>\n",
       "    .dataframe tbody tr th:only-of-type {\n",
       "        vertical-align: middle;\n",
       "    }\n",
       "\n",
       "    .dataframe tbody tr th {\n",
       "        vertical-align: top;\n",
       "    }\n",
       "\n",
       "    .dataframe thead th {\n",
       "        text-align: right;\n",
       "    }\n",
       "</style>\n",
       "<table border=\"1\" class=\"dataframe\">\n",
       "  <thead>\n",
       "    <tr style=\"text-align: right;\">\n",
       "      <th></th>\n",
       "      <th>Product Category</th>\n",
       "      <th>Description</th>\n",
       "      <th>Cleaned Description</th>\n",
       "      <th>Word Count</th>\n",
       "      <th>Cleaned Word Count</th>\n",
       "      <th>Character Length</th>\n",
       "      <th>Cleaned Character Count</th>\n",
       "    </tr>\n",
       "  </thead>\n",
       "  <tbody>\n",
       "    <tr>\n",
       "      <th>0</th>\n",
       "      <td>Clothing</td>\n",
       "      <td>Key Features of Alisha Solid Women's Cycling S...</td>\n",
       "      <td>key features alisha solid women s cycling shor...</td>\n",
       "      <td>64</td>\n",
       "      <td>56</td>\n",
       "      <td>410</td>\n",
       "      <td>363</td>\n",
       "    </tr>\n",
       "    <tr>\n",
       "      <th>1</th>\n",
       "      <td>Footwear</td>\n",
       "      <td>Key Features of AW Bellies Sandals Wedges Heel...</td>\n",
       "      <td>key features aw bellies sandals wedges heel ca...</td>\n",
       "      <td>107</td>\n",
       "      <td>81</td>\n",
       "      <td>650</td>\n",
       "      <td>538</td>\n",
       "    </tr>\n",
       "    <tr>\n",
       "      <th>2</th>\n",
       "      <td>Clothing</td>\n",
       "      <td>Key Features of Alisha Solid Women's Cycling S...</td>\n",
       "      <td>key features alisha solid women s cycling shor...</td>\n",
       "      <td>63</td>\n",
       "      <td>54</td>\n",
       "      <td>403</td>\n",
       "      <td>358</td>\n",
       "    </tr>\n",
       "    <tr>\n",
       "      <th>3</th>\n",
       "      <td>Clothing</td>\n",
       "      <td>Key Features of Alisha Solid Women's Cycling S...</td>\n",
       "      <td>key features alisha solid women s cycling shor...</td>\n",
       "      <td>65</td>\n",
       "      <td>57</td>\n",
       "      <td>416</td>\n",
       "      <td>369</td>\n",
       "    </tr>\n",
       "    <tr>\n",
       "      <th>4</th>\n",
       "      <td>Footwear</td>\n",
       "      <td>Key Features of dilli bazaaar Bellies, Corpora...</td>\n",
       "      <td>key features dilli bazaaar bellies corporate c...</td>\n",
       "      <td>64</td>\n",
       "      <td>55</td>\n",
       "      <td>428</td>\n",
       "      <td>381</td>\n",
       "    </tr>\n",
       "  </tbody>\n",
       "</table>\n",
       "</div>"
      ],
      "text/plain": [
       "  Product Category                                        Description  \\\n",
       "0        Clothing   Key Features of Alisha Solid Women's Cycling S...   \n",
       "1        Footwear   Key Features of AW Bellies Sandals Wedges Heel...   \n",
       "2        Clothing   Key Features of Alisha Solid Women's Cycling S...   \n",
       "3        Clothing   Key Features of Alisha Solid Women's Cycling S...   \n",
       "4        Footwear   Key Features of dilli bazaaar Bellies, Corpora...   \n",
       "\n",
       "                                 Cleaned Description  Word Count  \\\n",
       "0  key features alisha solid women s cycling shor...          64   \n",
       "1  key features aw bellies sandals wedges heel ca...         107   \n",
       "2  key features alisha solid women s cycling shor...          63   \n",
       "3  key features alisha solid women s cycling shor...          65   \n",
       "4  key features dilli bazaaar bellies corporate c...          64   \n",
       "\n",
       "   Cleaned Word Count  Character Length  Cleaned Character Count  \n",
       "0                  56               410                      363  \n",
       "1                  81               650                      538  \n",
       "2                  54               403                      358  \n",
       "3                  57               416                      369  \n",
       "4                  55               428                      381  "
      ]
     },
     "execution_count": 82,
     "metadata": {},
     "output_type": "execute_result"
    }
   ],
   "source": [
    "df = df[['Product Category','Description','Cleaned Description','Word Count',\n",
    "        'Cleaned Word Count','Character Length','Cleaned Character Count']]\n",
    "df.head()"
   ]
  },
  {
   "cell_type": "code",
   "execution_count": 83,
   "id": "47859c76",
   "metadata": {},
   "outputs": [
    {
     "data": {
      "text/html": [
       "<div>\n",
       "<style scoped>\n",
       "    .dataframe tbody tr th:only-of-type {\n",
       "        vertical-align: middle;\n",
       "    }\n",
       "\n",
       "    .dataframe tbody tr th {\n",
       "        vertical-align: top;\n",
       "    }\n",
       "\n",
       "    .dataframe thead th {\n",
       "        text-align: right;\n",
       "    }\n",
       "</style>\n",
       "<table border=\"1\" class=\"dataframe\">\n",
       "  <thead>\n",
       "    <tr style=\"text-align: right;\">\n",
       "      <th></th>\n",
       "      <th>Product Category</th>\n",
       "      <th>Cleaned Description</th>\n",
       "    </tr>\n",
       "  </thead>\n",
       "  <tbody>\n",
       "    <tr>\n",
       "      <th>0</th>\n",
       "      <td>Clothing</td>\n",
       "      <td>key features alisha solid women s cycling shor...</td>\n",
       "    </tr>\n",
       "    <tr>\n",
       "      <th>1</th>\n",
       "      <td>Footwear</td>\n",
       "      <td>key features aw bellies sandals wedges heel ca...</td>\n",
       "    </tr>\n",
       "    <tr>\n",
       "      <th>2</th>\n",
       "      <td>Clothing</td>\n",
       "      <td>key features alisha solid women s cycling shor...</td>\n",
       "    </tr>\n",
       "    <tr>\n",
       "      <th>3</th>\n",
       "      <td>Clothing</td>\n",
       "      <td>key features alisha solid women s cycling shor...</td>\n",
       "    </tr>\n",
       "    <tr>\n",
       "      <th>4</th>\n",
       "      <td>Footwear</td>\n",
       "      <td>key features dilli bazaaar bellies corporate c...</td>\n",
       "    </tr>\n",
       "  </tbody>\n",
       "</table>\n",
       "</div>"
      ],
      "text/plain": [
       "  Product Category                                Cleaned Description\n",
       "0        Clothing   key features alisha solid women s cycling shor...\n",
       "1        Footwear   key features aw bellies sandals wedges heel ca...\n",
       "2        Clothing   key features alisha solid women s cycling shor...\n",
       "3        Clothing   key features alisha solid women s cycling shor...\n",
       "4        Footwear   key features dilli bazaaar bellies corporate c..."
      ]
     },
     "execution_count": 83,
     "metadata": {},
     "output_type": "execute_result"
    }
   ],
   "source": [
    "final_df = df[['Product Category','Cleaned Description']]\n",
    "final_df.head()"
   ]
  },
  {
   "cell_type": "code",
   "execution_count": 84,
   "id": "218cd0e8",
   "metadata": {
    "scrolled": true
   },
   "outputs": [
    {
     "data": {
      "text/plain": [
       "Product Category       object\n",
       "Cleaned Description    object\n",
       "dtype: object"
      ]
     },
     "execution_count": 84,
     "metadata": {},
     "output_type": "execute_result"
    }
   ],
   "source": [
    "final_df.dtypes"
   ]
  },
  {
   "cell_type": "code",
   "execution_count": 85,
   "id": "9d4446df",
   "metadata": {},
   "outputs": [],
   "source": [
    "final_df['Product Category']= [str(i)[:-1] for i in final_df['Product Category'] ] # We are using this in order to remove the empty spacing at the end of the string"
   ]
  },
  {
   "cell_type": "markdown",
   "id": "84c3914c",
   "metadata": {},
   "source": [
    "### We will now transform the product category into a numerical format so that it can be fitted into our ML model:"
   ]
  },
  {
   "cell_type": "code",
   "execution_count": 87,
   "id": "9058369b",
   "metadata": {},
   "outputs": [],
   "source": [
    "le = LabelEncoder()\n",
    "final_df['Product Category Encoded'] = le.fit_transform(final_df['Product Category'])"
   ]
  },
  {
   "cell_type": "code",
   "execution_count": 88,
   "id": "23a9d323",
   "metadata": {},
   "outputs": [
    {
     "data": {
      "text/plain": [
       "array(['Automotive', 'Baby Care', 'Bags, Wallets & Belts', 'Clothing',\n",
       "       'Computers', 'Footwear', 'Home Decor & Festive Needs', 'Jewellery',\n",
       "       'Kitchen & Dining', 'Mobiles & Accessories', 'Pens & Stationery',\n",
       "       'Tools & Hardware', 'Toys & School Supplies', 'Watches'],\n",
       "      dtype=object)"
      ]
     },
     "execution_count": 88,
     "metadata": {},
     "output_type": "execute_result"
    }
   ],
   "source": [
    "le.classes_"
   ]
  },
  {
   "cell_type": "code",
   "execution_count": 89,
   "id": "6371906c",
   "metadata": {
    "scrolled": true
   },
   "outputs": [
    {
     "data": {
      "text/html": [
       "<div>\n",
       "<style scoped>\n",
       "    .dataframe tbody tr th:only-of-type {\n",
       "        vertical-align: middle;\n",
       "    }\n",
       "\n",
       "    .dataframe tbody tr th {\n",
       "        vertical-align: top;\n",
       "    }\n",
       "\n",
       "    .dataframe thead th {\n",
       "        text-align: right;\n",
       "    }\n",
       "</style>\n",
       "<table border=\"1\" class=\"dataframe\">\n",
       "  <thead>\n",
       "    <tr style=\"text-align: right;\">\n",
       "      <th></th>\n",
       "      <th>Product Category</th>\n",
       "      <th>Cleaned Description</th>\n",
       "      <th>Product Category Encoded</th>\n",
       "    </tr>\n",
       "  </thead>\n",
       "  <tbody>\n",
       "    <tr>\n",
       "      <th>0</th>\n",
       "      <td>Clothing</td>\n",
       "      <td>key features alisha solid women s cycling shor...</td>\n",
       "      <td>3</td>\n",
       "    </tr>\n",
       "    <tr>\n",
       "      <th>1</th>\n",
       "      <td>Footwear</td>\n",
       "      <td>key features aw bellies sandals wedges heel ca...</td>\n",
       "      <td>5</td>\n",
       "    </tr>\n",
       "    <tr>\n",
       "      <th>2</th>\n",
       "      <td>Clothing</td>\n",
       "      <td>key features alisha solid women s cycling shor...</td>\n",
       "      <td>3</td>\n",
       "    </tr>\n",
       "    <tr>\n",
       "      <th>3</th>\n",
       "      <td>Clothing</td>\n",
       "      <td>key features alisha solid women s cycling shor...</td>\n",
       "      <td>3</td>\n",
       "    </tr>\n",
       "    <tr>\n",
       "      <th>4</th>\n",
       "      <td>Footwear</td>\n",
       "      <td>key features dilli bazaaar bellies corporate c...</td>\n",
       "      <td>5</td>\n",
       "    </tr>\n",
       "  </tbody>\n",
       "</table>\n",
       "</div>"
      ],
      "text/plain": [
       "  Product Category                                Cleaned Description  \\\n",
       "0         Clothing  key features alisha solid women s cycling shor...   \n",
       "1         Footwear  key features aw bellies sandals wedges heel ca...   \n",
       "2         Clothing  key features alisha solid women s cycling shor...   \n",
       "3         Clothing  key features alisha solid women s cycling shor...   \n",
       "4         Footwear  key features dilli bazaaar bellies corporate c...   \n",
       "\n",
       "   Product Category Encoded  \n",
       "0                         3  \n",
       "1                         5  \n",
       "2                         3  \n",
       "3                         3  \n",
       "4                         5  "
      ]
     },
     "execution_count": 89,
     "metadata": {},
     "output_type": "execute_result"
    }
   ],
   "source": [
    "final_df.head()"
   ]
  },
  {
   "cell_type": "code",
   "execution_count": 90,
   "id": "173f31ed",
   "metadata": {},
   "outputs": [
    {
     "data": {
      "text/html": [
       "<div>\n",
       "<style scoped>\n",
       "    .dataframe tbody tr th:only-of-type {\n",
       "        vertical-align: middle;\n",
       "    }\n",
       "\n",
       "    .dataframe tbody tr th {\n",
       "        vertical-align: top;\n",
       "    }\n",
       "\n",
       "    .dataframe thead th {\n",
       "        text-align: right;\n",
       "    }\n",
       "</style>\n",
       "<table border=\"1\" class=\"dataframe\">\n",
       "  <thead>\n",
       "    <tr style=\"text-align: right;\">\n",
       "      <th></th>\n",
       "      <th>Product Category</th>\n",
       "      <th>Product Category Encoded</th>\n",
       "    </tr>\n",
       "  </thead>\n",
       "  <tbody>\n",
       "    <tr>\n",
       "      <th>0</th>\n",
       "      <td>Clothing</td>\n",
       "      <td>3</td>\n",
       "    </tr>\n",
       "    <tr>\n",
       "      <th>1</th>\n",
       "      <td>Footwear</td>\n",
       "      <td>5</td>\n",
       "    </tr>\n",
       "    <tr>\n",
       "      <th>2</th>\n",
       "      <td>Clothing</td>\n",
       "      <td>3</td>\n",
       "    </tr>\n",
       "    <tr>\n",
       "      <th>3</th>\n",
       "      <td>Clothing</td>\n",
       "      <td>3</td>\n",
       "    </tr>\n",
       "    <tr>\n",
       "      <th>4</th>\n",
       "      <td>Footwear</td>\n",
       "      <td>5</td>\n",
       "    </tr>\n",
       "  </tbody>\n",
       "</table>\n",
       "</div>"
      ],
      "text/plain": [
       "  Product Category  Product Category Encoded\n",
       "0         Clothing                         3\n",
       "1         Footwear                         5\n",
       "2         Clothing                         3\n",
       "3         Clothing                         3\n",
       "4         Footwear                         5"
      ]
     },
     "execution_count": 90,
     "metadata": {},
     "output_type": "execute_result"
    }
   ],
   "source": [
    "prod_df = final_df[['Product Category','Product Category Encoded']]\n",
    "prod_df.head()"
   ]
  },
  {
   "cell_type": "code",
   "execution_count": 91,
   "id": "3542006e",
   "metadata": {},
   "outputs": [
    {
     "data": {
      "text/html": [
       "<div>\n",
       "<style scoped>\n",
       "    .dataframe tbody tr th:only-of-type {\n",
       "        vertical-align: middle;\n",
       "    }\n",
       "\n",
       "    .dataframe tbody tr th {\n",
       "        vertical-align: top;\n",
       "    }\n",
       "\n",
       "    .dataframe thead th {\n",
       "        text-align: right;\n",
       "    }\n",
       "</style>\n",
       "<table border=\"1\" class=\"dataframe\">\n",
       "  <thead>\n",
       "    <tr style=\"text-align: right;\">\n",
       "      <th></th>\n",
       "      <th>Product Category</th>\n",
       "      <th>Product Category Encoded</th>\n",
       "    </tr>\n",
       "  </thead>\n",
       "  <tbody>\n",
       "    <tr>\n",
       "      <th>30</th>\n",
       "      <td>Automotive</td>\n",
       "      <td>0</td>\n",
       "    </tr>\n",
       "    <tr>\n",
       "      <th>37</th>\n",
       "      <td>Baby Care</td>\n",
       "      <td>1</td>\n",
       "    </tr>\n",
       "    <tr>\n",
       "      <th>26</th>\n",
       "      <td>Bags, Wallets &amp; Belts</td>\n",
       "      <td>2</td>\n",
       "    </tr>\n",
       "    <tr>\n",
       "      <th>0</th>\n",
       "      <td>Clothing</td>\n",
       "      <td>3</td>\n",
       "    </tr>\n",
       "    <tr>\n",
       "      <th>854</th>\n",
       "      <td>Computers</td>\n",
       "      <td>4</td>\n",
       "    </tr>\n",
       "    <tr>\n",
       "      <th>1</th>\n",
       "      <td>Footwear</td>\n",
       "      <td>5</td>\n",
       "    </tr>\n",
       "    <tr>\n",
       "      <th>29</th>\n",
       "      <td>Home Decor &amp; Festive Needs</td>\n",
       "      <td>6</td>\n",
       "    </tr>\n",
       "    <tr>\n",
       "      <th>265</th>\n",
       "      <td>Jewellery</td>\n",
       "      <td>7</td>\n",
       "    </tr>\n",
       "    <tr>\n",
       "      <th>796</th>\n",
       "      <td>Kitchen &amp; Dining</td>\n",
       "      <td>8</td>\n",
       "    </tr>\n",
       "    <tr>\n",
       "      <th>39</th>\n",
       "      <td>Mobiles &amp; Accessories</td>\n",
       "      <td>9</td>\n",
       "    </tr>\n",
       "    <tr>\n",
       "      <th>9</th>\n",
       "      <td>Pens &amp; Stationery</td>\n",
       "      <td>10</td>\n",
       "    </tr>\n",
       "    <tr>\n",
       "      <th>31</th>\n",
       "      <td>Tools &amp; Hardware</td>\n",
       "      <td>11</td>\n",
       "    </tr>\n",
       "    <tr>\n",
       "      <th>261</th>\n",
       "      <td>Toys &amp; School Supplies</td>\n",
       "      <td>12</td>\n",
       "    </tr>\n",
       "    <tr>\n",
       "      <th>46</th>\n",
       "      <td>Watches</td>\n",
       "      <td>13</td>\n",
       "    </tr>\n",
       "  </tbody>\n",
       "</table>\n",
       "</div>"
      ],
      "text/plain": [
       "               Product Category  Product Category Encoded\n",
       "30                   Automotive                         0\n",
       "37                    Baby Care                         1\n",
       "26        Bags, Wallets & Belts                         2\n",
       "0                      Clothing                         3\n",
       "854                   Computers                         4\n",
       "1                      Footwear                         5\n",
       "29   Home Decor & Festive Needs                         6\n",
       "265                   Jewellery                         7\n",
       "796            Kitchen & Dining                         8\n",
       "39        Mobiles & Accessories                         9\n",
       "9             Pens & Stationery                        10\n",
       "31             Tools & Hardware                        11\n",
       "261      Toys & School Supplies                        12\n",
       "46                      Watches                        13"
      ]
     },
     "execution_count": 91,
     "metadata": {},
     "output_type": "execute_result"
    }
   ],
   "source": [
    "prod_df = prod_df.drop_duplicates().sort_values('Product Category Encoded', ascending=True)\n",
    "prod_df"
   ]
  },
  {
   "cell_type": "markdown",
   "id": "0e6b8a2b",
   "metadata": {},
   "source": [
    "### We will now split the dataset into a features and target:"
   ]
  },
  {
   "cell_type": "code",
   "execution_count": 93,
   "id": "ce19f9ca",
   "metadata": {},
   "outputs": [],
   "source": [
    "X = final_df['Cleaned Description']\n",
    "y = final_df['Product Category Encoded']"
   ]
  },
  {
   "cell_type": "code",
   "execution_count": 94,
   "id": "f3937ce4",
   "metadata": {},
   "outputs": [
    {
     "data": {
      "text/plain": [
       "0        key features alisha solid women s cycling shor...\n",
       "1        key features aw bellies sandals wedges heel ca...\n",
       "2        key features alisha solid women s cycling shor...\n",
       "3        key features alisha solid women s cycling shor...\n",
       "4        key features dilli bazaaar bellies corporate c...\n",
       "                               ...                        \n",
       "14985    thelostpuppy book cover apple ipad air multico...\n",
       "14992    babes brass cuff pack price rs babes brand pre...\n",
       "14995    kenway retail brass copper cuff price rs sultr...\n",
       "14997    kenway retail brass copper cuff price rs hot s...\n",
       "14998    kenway retail brass copper cuff price rs spunk...\n",
       "Name: Cleaned Description, Length: 13166, dtype: object"
      ]
     },
     "execution_count": 94,
     "metadata": {},
     "output_type": "execute_result"
    }
   ],
   "source": [
    "X"
   ]
  },
  {
   "cell_type": "markdown",
   "id": "5ac4b55b",
   "metadata": {},
   "source": [
    "### We will split our variables as train and test variables:"
   ]
  },
  {
   "cell_type": "code",
   "execution_count": 96,
   "id": "4b376745",
   "metadata": {},
   "outputs": [],
   "source": [
    "X_train, X_test, y_train, y_test = train_test_split(X,y, test_size=0.2, random_state=42)"
   ]
  },
  {
   "cell_type": "markdown",
   "id": "6cb72d16",
   "metadata": {},
   "source": [
    "###  We will now perform feature extraction on our X_train, X_test data in order to convert it into a readable form for our ML model:"
   ]
  },
  {
   "cell_type": "markdown",
   "id": "5f476f0e",
   "metadata": {},
   "source": [
    "### We will be using tfidf vectorizer in order to extract the feactures:"
   ]
  },
  {
   "cell_type": "code",
   "execution_count": 99,
   "id": "9eacb8f9",
   "metadata": {},
   "outputs": [],
   "source": [
    "tfidf =TfidfVectorizer()\n",
    "X_train_tf = tfidf.fit_transform(X_train)\n",
    "X_test_tf = tfidf.transform(X_test)"
   ]
  },
  {
   "cell_type": "code",
   "execution_count": 100,
   "id": "08917743",
   "metadata": {},
   "outputs": [
    {
     "data": {
      "text/plain": [
       "<10532x13837 sparse matrix of type '<class 'numpy.float64'>'\n",
       "\twith 310539 stored elements in Compressed Sparse Row format>"
      ]
     },
     "execution_count": 100,
     "metadata": {},
     "output_type": "execute_result"
    }
   ],
   "source": [
    "X_train_tf"
   ]
  },
  {
   "cell_type": "markdown",
   "id": "acc6b2a7",
   "metadata": {},
   "source": [
    "### We have defined a function in order to calculate the accuracy metrics for an ML model:"
   ]
  },
  {
   "cell_type": "code",
   "execution_count": 102,
   "id": "bf9c7cff",
   "metadata": {},
   "outputs": [],
   "source": [
    "def accuracy_metrics (model_name, y_test, y_pred):\n",
    "    print(f\"The accuracy metrics for {model_name} are as follows: \\n\")\n",
    "    acc_score = np.round((accuracy_score(y_test, y_pred)),2)\n",
    "    print(f\"The accuracy score of {model_name} is {acc_score}\")\n",
    "    class_report = classification_report(y_test,y_pred)\n",
    "    print(f'\\nClassification report: \\n\\n{class_report}')"
   ]
  },
  {
   "cell_type": "markdown",
   "id": "b3040686",
   "metadata": {},
   "source": [
    "### Model selection:"
   ]
  },
  {
   "cell_type": "markdown",
   "id": "022d5c4d",
   "metadata": {},
   "source": [
    "### 1. Logistic Regression:"
   ]
  },
  {
   "cell_type": "code",
   "execution_count": 105,
   "id": "f4abda85",
   "metadata": {},
   "outputs": [],
   "source": [
    "lr = LogisticRegression()\n",
    "model_lr = lr.fit(X_train_tf,y_train)"
   ]
  },
  {
   "cell_type": "code",
   "execution_count": 106,
   "id": "cdc1cc79",
   "metadata": {},
   "outputs": [],
   "source": [
    "y_pred_tf_lr = model_lr.predict(X_test_tf)"
   ]
  },
  {
   "cell_type": "code",
   "execution_count": 107,
   "id": "244c4364",
   "metadata": {
    "scrolled": true
   },
   "outputs": [
    {
     "name": "stdout",
     "output_type": "stream",
     "text": [
      "The accuracy metrics for Logistic Regression are as follows: \n",
      "\n",
      "The accuracy score of Logistic Regression is 0.97\n",
      "\n",
      "Classification report: \n",
      "\n",
      "              precision    recall  f1-score   support\n",
      "\n",
      "           0       0.97      0.99      0.98       203\n",
      "           1       0.93      0.68      0.79        38\n",
      "           2       1.00      0.75      0.86        36\n",
      "           3       0.96      1.00      0.98       926\n",
      "           4       0.95      0.97      0.96        96\n",
      "           5       0.99      0.98      0.99       173\n",
      "           6       0.96      0.96      0.96       136\n",
      "           7       0.98      1.00      0.99       539\n",
      "           8       0.97      0.97      0.97       131\n",
      "           9       0.97      0.95      0.96       108\n",
      "          10       0.91      0.57      0.70        35\n",
      "          11       1.00      0.91      0.95        66\n",
      "          12       0.81      0.82      0.82        51\n",
      "          13       1.00      0.96      0.98        96\n",
      "\n",
      "    accuracy                           0.97      2634\n",
      "   macro avg       0.96      0.89      0.92      2634\n",
      "weighted avg       0.97      0.97      0.97      2634\n",
      "\n"
     ]
    }
   ],
   "source": [
    "accuracy_metrics('Logistic Regression', y_test,y_pred_tf_lr)"
   ]
  },
  {
   "cell_type": "markdown",
   "id": "caa61659",
   "metadata": {},
   "source": [
    "### 2. Support Vector Classifier:"
   ]
  },
  {
   "cell_type": "code",
   "execution_count": 109,
   "id": "a5353cea",
   "metadata": {},
   "outputs": [],
   "source": [
    "svc = SVC()\n",
    "model_svc = svc.fit(X_train_tf,y_train)"
   ]
  },
  {
   "cell_type": "code",
   "execution_count": 110,
   "id": "a23740aa",
   "metadata": {},
   "outputs": [],
   "source": [
    "y_pred_tf_svc = model_svc.predict(X_test_tf)"
   ]
  },
  {
   "cell_type": "code",
   "execution_count": 111,
   "id": "255518cc",
   "metadata": {},
   "outputs": [
    {
     "name": "stdout",
     "output_type": "stream",
     "text": [
      "The accuracy metrics for Support Vector Classifier are as follows: \n",
      "\n",
      "The accuracy score of Support Vector Classifier is 0.97\n",
      "\n",
      "Classification report: \n",
      "\n",
      "              precision    recall  f1-score   support\n",
      "\n",
      "           0       0.99      0.98      0.98       203\n",
      "           1       0.85      0.74      0.79        38\n",
      "           2       1.00      0.81      0.89        36\n",
      "           3       0.96      0.99      0.98       926\n",
      "           4       0.99      0.97      0.98        96\n",
      "           5       1.00      0.98      0.99       173\n",
      "           6       0.96      0.97      0.97       136\n",
      "           7       1.00      1.00      1.00       539\n",
      "           8       0.98      0.98      0.98       131\n",
      "           9       0.96      0.98      0.97       108\n",
      "          10       0.91      0.60      0.72        35\n",
      "          11       1.00      0.94      0.97        66\n",
      "          12       0.82      0.90      0.86        51\n",
      "          13       1.00      0.99      0.99        96\n",
      "\n",
      "    accuracy                           0.97      2634\n",
      "   macro avg       0.96      0.92      0.93      2634\n",
      "weighted avg       0.97      0.97      0.97      2634\n",
      "\n"
     ]
    }
   ],
   "source": [
    "accuracy_metrics('Support Vector Classifier', y_test,y_pred_tf_svc)"
   ]
  },
  {
   "cell_type": "markdown",
   "id": "d65cf02d",
   "metadata": {},
   "source": [
    "### 3.Decision Tree Classifier:"
   ]
  },
  {
   "cell_type": "code",
   "execution_count": 113,
   "id": "0726394f",
   "metadata": {},
   "outputs": [],
   "source": [
    "dt = DecisionTreeClassifier()\n",
    "model_dt = dt.fit(X_train_tf,y_train)"
   ]
  },
  {
   "cell_type": "code",
   "execution_count": 114,
   "id": "4b03cc5f",
   "metadata": {},
   "outputs": [],
   "source": [
    "y_pred_tf_dt = model_dt.predict(X_test_tf)"
   ]
  },
  {
   "cell_type": "code",
   "execution_count": 115,
   "id": "d0a5d605",
   "metadata": {},
   "outputs": [
    {
     "name": "stdout",
     "output_type": "stream",
     "text": [
      "The accuracy metrics for Decision Tree Classifier are as follows: \n",
      "\n",
      "The accuracy score of Decision Tree Classifier is 0.95\n",
      "\n",
      "Classification report: \n",
      "\n",
      "              precision    recall  f1-score   support\n",
      "\n",
      "           0       0.96      0.95      0.96       203\n",
      "           1       0.72      0.74      0.73        38\n",
      "           2       0.69      0.61      0.65        36\n",
      "           3       0.97      0.98      0.98       926\n",
      "           4       0.88      0.96      0.92        96\n",
      "           5       0.97      0.94      0.95       173\n",
      "           6       0.98      0.92      0.95       136\n",
      "           7       0.98      0.99      0.98       539\n",
      "           8       0.92      0.93      0.93       131\n",
      "           9       0.94      0.87      0.90       108\n",
      "          10       0.57      0.71      0.63        35\n",
      "          11       0.90      0.97      0.93        66\n",
      "          12       0.83      0.76      0.80        51\n",
      "          13       0.99      0.97      0.98        96\n",
      "\n",
      "    accuracy                           0.95      2634\n",
      "   macro avg       0.88      0.88      0.88      2634\n",
      "weighted avg       0.95      0.95      0.95      2634\n",
      "\n"
     ]
    }
   ],
   "source": [
    "accuracy_metrics('Decision Tree Classifier', y_test,y_pred_tf_dt)"
   ]
  },
  {
   "cell_type": "markdown",
   "id": "1f5bdb4a",
   "metadata": {},
   "source": [
    "### Based on the accuracy metrics, all 3 models seem to have a similar performance with a with good accuracy."
   ]
  },
  {
   "cell_type": "markdown",
   "id": "e638e198",
   "metadata": {},
   "source": [
    "### We will define another function in order to the active target values which were decoded earlier in order to have it fitted in the ML model. "
   ]
  },
  {
   "cell_type": "code",
   "execution_count": 118,
   "id": "7bf756e9",
   "metadata": {},
   "outputs": [],
   "source": [
    "def target_value_actual(target_actual,target_pred):\n",
    "    target_actual_inv = le.inverse_transform(target_actual)\n",
    "    target_pred_inv = le.inverse_transform(target_pred)\n",
    "    Target_values_df = pd.DataFrame({'Actual Value':target_actual_inv,'Predicted Value':target_pred_inv})\n",
    "    return Target_values_df"
   ]
  },
  {
   "cell_type": "code",
   "execution_count": 119,
   "id": "a6c44ee8",
   "metadata": {},
   "outputs": [
    {
     "data": {
      "text/html": [
       "<div>\n",
       "<style scoped>\n",
       "    .dataframe tbody tr th:only-of-type {\n",
       "        vertical-align: middle;\n",
       "    }\n",
       "\n",
       "    .dataframe tbody tr th {\n",
       "        vertical-align: top;\n",
       "    }\n",
       "\n",
       "    .dataframe thead th {\n",
       "        text-align: right;\n",
       "    }\n",
       "</style>\n",
       "<table border=\"1\" class=\"dataframe\">\n",
       "  <thead>\n",
       "    <tr style=\"text-align: right;\">\n",
       "      <th></th>\n",
       "      <th>Actual Value</th>\n",
       "      <th>Predicted Value</th>\n",
       "    </tr>\n",
       "  </thead>\n",
       "  <tbody>\n",
       "    <tr>\n",
       "      <th>0</th>\n",
       "      <td>Clothing</td>\n",
       "      <td>Clothing</td>\n",
       "    </tr>\n",
       "    <tr>\n",
       "      <th>1</th>\n",
       "      <td>Jewellery</td>\n",
       "      <td>Jewellery</td>\n",
       "    </tr>\n",
       "    <tr>\n",
       "      <th>2</th>\n",
       "      <td>Jewellery</td>\n",
       "      <td>Jewellery</td>\n",
       "    </tr>\n",
       "    <tr>\n",
       "      <th>3</th>\n",
       "      <td>Clothing</td>\n",
       "      <td>Clothing</td>\n",
       "    </tr>\n",
       "    <tr>\n",
       "      <th>4</th>\n",
       "      <td>Kitchen &amp; Dining</td>\n",
       "      <td>Clothing</td>\n",
       "    </tr>\n",
       "    <tr>\n",
       "      <th>5</th>\n",
       "      <td>Jewellery</td>\n",
       "      <td>Jewellery</td>\n",
       "    </tr>\n",
       "    <tr>\n",
       "      <th>6</th>\n",
       "      <td>Jewellery</td>\n",
       "      <td>Jewellery</td>\n",
       "    </tr>\n",
       "    <tr>\n",
       "      <th>7</th>\n",
       "      <td>Jewellery</td>\n",
       "      <td>Jewellery</td>\n",
       "    </tr>\n",
       "    <tr>\n",
       "      <th>8</th>\n",
       "      <td>Clothing</td>\n",
       "      <td>Clothing</td>\n",
       "    </tr>\n",
       "    <tr>\n",
       "      <th>9</th>\n",
       "      <td>Clothing</td>\n",
       "      <td>Clothing</td>\n",
       "    </tr>\n",
       "  </tbody>\n",
       "</table>\n",
       "</div>"
      ],
      "text/plain": [
       "       Actual Value Predicted Value\n",
       "0          Clothing        Clothing\n",
       "1         Jewellery       Jewellery\n",
       "2         Jewellery       Jewellery\n",
       "3          Clothing        Clothing\n",
       "4  Kitchen & Dining        Clothing\n",
       "5         Jewellery       Jewellery\n",
       "6         Jewellery       Jewellery\n",
       "7         Jewellery       Jewellery\n",
       "8          Clothing        Clothing\n",
       "9          Clothing        Clothing"
      ]
     },
     "execution_count": 119,
     "metadata": {},
     "output_type": "execute_result"
    }
   ],
   "source": [
    "y_act_df = target_value_actual(y_test, y_pred_tf_lr)\n",
    "y_act_df.head(10)"
   ]
  },
  {
   "cell_type": "markdown",
   "id": "6c4326fb",
   "metadata": {},
   "source": [
    "### We will use a test data set in order to test the results and performance accuracy of our models:"
   ]
  },
  {
   "cell_type": "code",
   "execution_count": 122,
   "id": "09c2f842",
   "metadata": {},
   "outputs": [
    {
     "data": {
      "text/html": [
       "<div>\n",
       "<style scoped>\n",
       "    .dataframe tbody tr th:only-of-type {\n",
       "        vertical-align: middle;\n",
       "    }\n",
       "\n",
       "    .dataframe tbody tr th {\n",
       "        vertical-align: top;\n",
       "    }\n",
       "\n",
       "    .dataframe thead th {\n",
       "        text-align: right;\n",
       "    }\n",
       "</style>\n",
       "<table border=\"1\" class=\"dataframe\">\n",
       "  <thead>\n",
       "    <tr style=\"text-align: right;\">\n",
       "      <th></th>\n",
       "      <th>uniq_id</th>\n",
       "      <th>crawl_timestamp</th>\n",
       "      <th>product_url</th>\n",
       "      <th>product_name</th>\n",
       "      <th>pid</th>\n",
       "      <th>retail_price</th>\n",
       "      <th>discounted_price</th>\n",
       "      <th>image</th>\n",
       "      <th>is_FK_Advantage_product</th>\n",
       "      <th>description</th>\n",
       "      <th>product_rating</th>\n",
       "      <th>overall_rating</th>\n",
       "      <th>brand</th>\n",
       "      <th>product_specifications</th>\n",
       "    </tr>\n",
       "  </thead>\n",
       "  <tbody>\n",
       "    <tr>\n",
       "      <th>0</th>\n",
       "      <td>4fb99d98225f415e7ece96938e95628f</td>\n",
       "      <td>2015-12-20 08:26:17 +0000</td>\n",
       "      <td>http://www.flipkart.com/v-v-art-brass-bracelet...</td>\n",
       "      <td>V&amp;V ART Brass Bracelet</td>\n",
       "      <td>BBAE6NYHCDTEZJTB</td>\n",
       "      <td>470.0</td>\n",
       "      <td>423.0</td>\n",
       "      <td>[\"http://img6a.flixcart.com/image/bangle-brace...</td>\n",
       "      <td>False</td>\n",
       "      <td>V&amp;V ART Brass Bracelet - Buy V&amp;V ART Brass Bra...</td>\n",
       "      <td>No rating available</td>\n",
       "      <td>No rating available</td>\n",
       "      <td>V&amp;V ART</td>\n",
       "      <td>{\"product_specification\"=&gt;[{\"key\"=&gt;\"Brand\", \"v...</td>\n",
       "    </tr>\n",
       "    <tr>\n",
       "      <th>1</th>\n",
       "      <td>4ea284c8d38b2ea97a1c2a26f34e057c</td>\n",
       "      <td>2015-12-20 08:26:17 +0000</td>\n",
       "      <td>http://www.flipkart.com/kalpaveda-copper-cuff/...</td>\n",
       "      <td>Kalpaveda Copper Copper Cuff</td>\n",
       "      <td>BBAEDFFKZJTY7SZZ</td>\n",
       "      <td>1200.0</td>\n",
       "      <td>1200.0</td>\n",
       "      <td>[\"http://img6a.flixcart.com/image/bangle-brace...</td>\n",
       "      <td>False</td>\n",
       "      <td>Kalpaveda Copper Copper Cuff\\n                ...</td>\n",
       "      <td>No rating available</td>\n",
       "      <td>No rating available</td>\n",
       "      <td>Kalpaveda</td>\n",
       "      <td>{\"product_specification\"=&gt;[{\"key\"=&gt;\"Stretchabl...</td>\n",
       "    </tr>\n",
       "    <tr>\n",
       "      <th>2</th>\n",
       "      <td>ee6ce2c7045c54257e2a0b590e09c296</td>\n",
       "      <td>2015-12-20 08:26:17 +0000</td>\n",
       "      <td>http://www.flipkart.com/thelostpuppy-book-cove...</td>\n",
       "      <td>Thelostpuppy Book Cover for Apple iPad Air</td>\n",
       "      <td>ACCEA4DZH6M5SFVH</td>\n",
       "      <td>2199.0</td>\n",
       "      <td>599.0</td>\n",
       "      <td>[\"http://img5a.flixcart.com/image/cases-covers...</td>\n",
       "      <td>False</td>\n",
       "      <td>Thelostpuppy Book Cover for Apple iPad Air (Mu...</td>\n",
       "      <td>No rating available</td>\n",
       "      <td>No rating available</td>\n",
       "      <td>Thelostpuppy</td>\n",
       "      <td>{\"product_specification\"=&gt;[{\"key\"=&gt;\"Brand\", \"v...</td>\n",
       "    </tr>\n",
       "    <tr>\n",
       "      <th>3</th>\n",
       "      <td>e797ba3b5f2e2d1fdc520e48486ab60e</td>\n",
       "      <td>2015-12-20 08:26:17 +0000</td>\n",
       "      <td>http://www.flipkart.com/riana-copper-bangle/p/...</td>\n",
       "      <td>Riana Copper Copper Bangle</td>\n",
       "      <td>BBAEAXFQHHMF3EYZ</td>\n",
       "      <td>2499.0</td>\n",
       "      <td>649.0</td>\n",
       "      <td>[\"http://img5a.flixcart.com/image/bangle-brace...</td>\n",
       "      <td>False</td>\n",
       "      <td>Riana Copper Copper Bangle - Buy Riana Copper ...</td>\n",
       "      <td>5</td>\n",
       "      <td>5</td>\n",
       "      <td>Riana</td>\n",
       "      <td>{\"product_specification\"=&gt;[{\"key\"=&gt;\"Collection...</td>\n",
       "    </tr>\n",
       "    <tr>\n",
       "      <th>4</th>\n",
       "      <td>f4d8d43858c8858c68d75ce07ac641c0</td>\n",
       "      <td>2015-12-20 08:26:17 +0000</td>\n",
       "      <td>http://www.flipkart.com/inox-jewelry-stainless...</td>\n",
       "      <td>Inox Jewelry Stainless Steel Cuff</td>\n",
       "      <td>BBAECH63WYDG6TE2</td>\n",
       "      <td>1629.0</td>\n",
       "      <td>1222.0</td>\n",
       "      <td>[\"http://img6a.flixcart.com/image/bangle-brace...</td>\n",
       "      <td>False</td>\n",
       "      <td>Inox Jewelry Stainless Steel Cuff\\n           ...</td>\n",
       "      <td>No rating available</td>\n",
       "      <td>No rating available</td>\n",
       "      <td>Inox Jewelry</td>\n",
       "      <td>{\"product_specification\"=&gt;[{\"key\"=&gt;\"Stretchabl...</td>\n",
       "    </tr>\n",
       "  </tbody>\n",
       "</table>\n",
       "</div>"
      ],
      "text/plain": [
       "                            uniq_id            crawl_timestamp  \\\n",
       "0  4fb99d98225f415e7ece96938e95628f  2015-12-20 08:26:17 +0000   \n",
       "1  4ea284c8d38b2ea97a1c2a26f34e057c  2015-12-20 08:26:17 +0000   \n",
       "2  ee6ce2c7045c54257e2a0b590e09c296  2015-12-20 08:26:17 +0000   \n",
       "3  e797ba3b5f2e2d1fdc520e48486ab60e  2015-12-20 08:26:17 +0000   \n",
       "4  f4d8d43858c8858c68d75ce07ac641c0  2015-12-20 08:26:17 +0000   \n",
       "\n",
       "                                         product_url  \\\n",
       "0  http://www.flipkart.com/v-v-art-brass-bracelet...   \n",
       "1  http://www.flipkart.com/kalpaveda-copper-cuff/...   \n",
       "2  http://www.flipkart.com/thelostpuppy-book-cove...   \n",
       "3  http://www.flipkart.com/riana-copper-bangle/p/...   \n",
       "4  http://www.flipkart.com/inox-jewelry-stainless...   \n",
       "\n",
       "                                 product_name               pid  retail_price  \\\n",
       "0                      V&V ART Brass Bracelet  BBAE6NYHCDTEZJTB         470.0   \n",
       "1                Kalpaveda Copper Copper Cuff  BBAEDFFKZJTY7SZZ        1200.0   \n",
       "2  Thelostpuppy Book Cover for Apple iPad Air  ACCEA4DZH6M5SFVH        2199.0   \n",
       "3                  Riana Copper Copper Bangle  BBAEAXFQHHMF3EYZ        2499.0   \n",
       "4           Inox Jewelry Stainless Steel Cuff  BBAECH63WYDG6TE2        1629.0   \n",
       "\n",
       "   discounted_price                                              image  \\\n",
       "0             423.0  [\"http://img6a.flixcart.com/image/bangle-brace...   \n",
       "1            1200.0  [\"http://img6a.flixcart.com/image/bangle-brace...   \n",
       "2             599.0  [\"http://img5a.flixcart.com/image/cases-covers...   \n",
       "3             649.0  [\"http://img5a.flixcart.com/image/bangle-brace...   \n",
       "4            1222.0  [\"http://img6a.flixcart.com/image/bangle-brace...   \n",
       "\n",
       "   is_FK_Advantage_product                                        description  \\\n",
       "0                    False  V&V ART Brass Bracelet - Buy V&V ART Brass Bra...   \n",
       "1                    False  Kalpaveda Copper Copper Cuff\\n                ...   \n",
       "2                    False  Thelostpuppy Book Cover for Apple iPad Air (Mu...   \n",
       "3                    False  Riana Copper Copper Bangle - Buy Riana Copper ...   \n",
       "4                    False  Inox Jewelry Stainless Steel Cuff\\n           ...   \n",
       "\n",
       "        product_rating       overall_rating         brand  \\\n",
       "0  No rating available  No rating available       V&V ART   \n",
       "1  No rating available  No rating available     Kalpaveda   \n",
       "2  No rating available  No rating available  Thelostpuppy   \n",
       "3                    5                    5         Riana   \n",
       "4  No rating available  No rating available  Inox Jewelry   \n",
       "\n",
       "                              product_specifications  \n",
       "0  {\"product_specification\"=>[{\"key\"=>\"Brand\", \"v...  \n",
       "1  {\"product_specification\"=>[{\"key\"=>\"Stretchabl...  \n",
       "2  {\"product_specification\"=>[{\"key\"=>\"Brand\", \"v...  \n",
       "3  {\"product_specification\"=>[{\"key\"=>\"Collection...  \n",
       "4  {\"product_specification\"=>[{\"key\"=>\"Stretchabl...  "
      ]
     },
     "execution_count": 122,
     "metadata": {},
     "output_type": "execute_result"
    }
   ],
   "source": [
    "test_df = pd.read_csv(r\"C:\\Users\\vaish_s4kcn30\\Downloads\\Python\\My portfolio\\e-commerce product categorization using NLP\\Dataset\\test_data.csv\")\n",
    "test_df.head()"
   ]
  },
  {
   "cell_type": "code",
   "execution_count": 124,
   "id": "70ca8cde",
   "metadata": {},
   "outputs": [
    {
     "data": {
      "text/plain": [
       "0    V&V ART Brass Bracelet - Buy V&V ART Brass Bra...\n",
       "1    Kalpaveda Copper Copper Cuff\\n                ...\n",
       "2    Thelostpuppy Book Cover for Apple iPad Air (Mu...\n",
       "3    Riana Copper Copper Bangle - Buy Riana Copper ...\n",
       "4    Inox Jewelry Stainless Steel Cuff\\n           ...\n",
       "Name: description, dtype: object"
      ]
     },
     "execution_count": 124,
     "metadata": {},
     "output_type": "execute_result"
    }
   ],
   "source": [
    "Features = test_df['description']\n",
    "Features.head()"
   ]
  },
  {
   "cell_type": "code",
   "execution_count": 126,
   "id": "0b13c396",
   "metadata": {},
   "outputs": [
    {
     "data": {
      "text/plain": [
       "0       v v art brass bracelet buy v v art brass brace...\n",
       "1       kalpaveda copper copper cuff price rs attract ...\n",
       "2       thelostpuppy book cover apple ipad air multico...\n",
       "3       riana copper copper bangle buy riana copper co...\n",
       "4       inox jewelry stainless steel cuff price rs ino...\n",
       "                              ...                        \n",
       "2529    buy walldesign small vinyl sticker rs online w...\n",
       "2530    buy wallmantra large vinyl stickers sticker rs...\n",
       "2531    buy elite collection medium acrylic sticker rs...\n",
       "2532    buy elite collection medium acrylic sticker rs...\n",
       "2533    buy elite collection medium acrylic sticker rs...\n",
       "Name: description, Length: 2534, dtype: object"
      ]
     },
     "execution_count": 126,
     "metadata": {},
     "output_type": "execute_result"
    }
   ],
   "source": [
    "Features = Features.apply(lambda x:cleaned_description(x))\n",
    "Features"
   ]
  },
  {
   "cell_type": "code",
   "execution_count": 127,
   "id": "7401ea0c",
   "metadata": {},
   "outputs": [
    {
     "data": {
      "text/plain": [
       "pandas.core.series.Series"
      ]
     },
     "execution_count": 127,
     "metadata": {},
     "output_type": "execute_result"
    }
   ],
   "source": [
    "type(Features)"
   ]
  },
  {
   "cell_type": "code",
   "execution_count": 128,
   "id": "c1d91c81",
   "metadata": {},
   "outputs": [
    {
     "data": {
      "text/plain": [
       "(2534,)"
      ]
     },
     "execution_count": 128,
     "metadata": {},
     "output_type": "execute_result"
    }
   ],
   "source": [
    "Features.shape"
   ]
  },
  {
   "cell_type": "code",
   "execution_count": 129,
   "id": "e3fc26a9",
   "metadata": {},
   "outputs": [
    {
     "data": {
      "text/plain": [
       "<2534x13837 sparse matrix of type '<class 'numpy.float64'>'\n",
       "\twith 89799 stored elements in Compressed Sparse Row format>"
      ]
     },
     "execution_count": 129,
     "metadata": {},
     "output_type": "execute_result"
    }
   ],
   "source": [
    "Features = tfidf.transform(Features)\n",
    "Features"
   ]
  },
  {
   "cell_type": "markdown",
   "id": "3b4e706d",
   "metadata": {},
   "source": [
    "## MODEL SELECTION: "
   ]
  },
  {
   "cell_type": "markdown",
   "id": "2e35f6a0",
   "metadata": {},
   "source": [
    "### In order to test the accuracy, we will import the actual test values in order to compare it with the predicted values and subject the same to encoding:"
   ]
  },
  {
   "cell_type": "code",
   "execution_count": 140,
   "id": "03073a26",
   "metadata": {},
   "outputs": [],
   "source": [
    "Target_actual=pd.read_excel(r\"C:\\Users\\vaish_s4kcn30\\Downloads\\Python\\My portfolio\\e-commerce product categorization using NLP\\Dataset\\test_results.xlsx\")"
   ]
  },
  {
   "cell_type": "code",
   "execution_count": 142,
   "id": "ec11e224",
   "metadata": {},
   "outputs": [],
   "source": [
    "Target_actual.replace('Bags, Wallets & Belts ','Bags, Wallets & Belts',inplace=True)  # Due to a spacing issue, we have replaced the string. "
   ]
  },
  {
   "cell_type": "code",
   "execution_count": 144,
   "id": "c84307fe",
   "metadata": {},
   "outputs": [],
   "source": [
    "Target_actual=le.transform(Target_actual)"
   ]
  },
  {
   "cell_type": "markdown",
   "id": "b816b4d2",
   "metadata": {},
   "source": [
    "## LOGISTIC REGRESSION:"
   ]
  },
  {
   "cell_type": "code",
   "execution_count": 146,
   "id": "7c838e2a",
   "metadata": {},
   "outputs": [],
   "source": [
    "Target_pred_lr = model_lr.predict(Features)"
   ]
  },
  {
   "cell_type": "code",
   "execution_count": 147,
   "id": "35602a71",
   "metadata": {
    "scrolled": true
   },
   "outputs": [
    {
     "name": "stdout",
     "output_type": "stream",
     "text": [
      "The accuracy metrics for Logistic Regression are as follows: \n",
      "\n",
      "The accuracy score of Logistic Regression is 0.82\n",
      "\n",
      "Classification report: \n",
      "\n",
      "              precision    recall  f1-score   support\n",
      "\n",
      "           0       0.67      0.95      0.78        75\n",
      "           1       0.22      0.01      0.01       259\n",
      "           2       1.00      0.68      0.81       107\n",
      "           3       0.87      0.99      0.93       882\n",
      "           4       0.95      0.89      0.92        47\n",
      "           5       0.93      0.99      0.96       144\n",
      "           6       0.44      0.79      0.57       215\n",
      "           7       0.94      0.96      0.95       313\n",
      "           8       0.67      0.84      0.75        37\n",
      "           9       0.98      0.93      0.95       331\n",
      "          10       0.97      0.59      0.73        49\n",
      "          11       0.00      0.00      0.00        12\n",
      "          12       0.96      0.73      0.83        59\n",
      "          13       1.00      0.75      0.86         4\n",
      "\n",
      "    accuracy                           0.82      2534\n",
      "   macro avg       0.76      0.72      0.72      2534\n",
      "weighted avg       0.79      0.82      0.79      2534\n",
      "\n"
     ]
    }
   ],
   "source": [
    "accuracy_metrics('Logistic Regression', Target_actual,Target_pred_lr)"
   ]
  },
  {
   "cell_type": "markdown",
   "id": "cacb05eb",
   "metadata": {},
   "source": [
    "### We are getting an overall accuracy score of 82%, but some of the accuracy metrics are quite low. We will check out the other models as well.\n"
   ]
  },
  {
   "cell_type": "markdown",
   "id": "66b3265b",
   "metadata": {},
   "source": [
    "## 2. SUPPORT VECTOR CLASSIFICATION:"
   ]
  },
  {
   "cell_type": "code",
   "execution_count": 150,
   "id": "22acb4c5",
   "metadata": {},
   "outputs": [],
   "source": [
    "Target_pred_svc = model_svc.predict(Features)"
   ]
  },
  {
   "cell_type": "code",
   "execution_count": 151,
   "id": "27c27299",
   "metadata": {},
   "outputs": [
    {
     "name": "stdout",
     "output_type": "stream",
     "text": [
      "The accuracy metrics for Support Vector Classification are as follows: \n",
      "\n",
      "The accuracy score of Support Vector Classification is 0.81\n",
      "\n",
      "Classification report: \n",
      "\n",
      "              precision    recall  f1-score   support\n",
      "\n",
      "           0       0.65      0.85      0.74        75\n",
      "           1       0.27      0.01      0.02       259\n",
      "           2       1.00      0.68      0.81       107\n",
      "           3       0.83      0.99      0.90       882\n",
      "           4       0.95      0.83      0.89        47\n",
      "           5       0.93      0.99      0.96       144\n",
      "           6       0.44      0.80      0.57       215\n",
      "           7       0.97      0.95      0.96       313\n",
      "           8       0.73      0.89      0.80        37\n",
      "           9       0.98      0.92      0.95       331\n",
      "          10       1.00      0.37      0.54        49\n",
      "          11       0.00      0.00      0.00        12\n",
      "          12       0.97      0.64      0.78        59\n",
      "          13       1.00      0.75      0.86         4\n",
      "\n",
      "    accuracy                           0.81      2534\n",
      "   macro avg       0.77      0.69      0.70      2534\n",
      "weighted avg       0.79      0.81      0.78      2534\n",
      "\n"
     ]
    }
   ],
   "source": [
    "accuracy_metrics('Support Vector Classification', Target_actual,Target_pred_svc)"
   ]
  },
  {
   "cell_type": "markdown",
   "id": "98877f74",
   "metadata": {},
   "source": [
    "### In the case of Support Vector Classification as well, the accuracy is good, anyhow some of the other metrcs are very low. "
   ]
  },
  {
   "cell_type": "markdown",
   "id": "95217a99",
   "metadata": {},
   "source": [
    "### 3. DECISION TREES:"
   ]
  },
  {
   "cell_type": "code",
   "execution_count": 157,
   "id": "40eb2dac",
   "metadata": {},
   "outputs": [],
   "source": [
    "Target_pred_dt = model_dt.predict(Features)"
   ]
  },
  {
   "cell_type": "code",
   "execution_count": 158,
   "id": "94b77faa",
   "metadata": {},
   "outputs": [
    {
     "name": "stdout",
     "output_type": "stream",
     "text": [
      "The accuracy metrics for Deision Trees are as follows: \n",
      "\n",
      "The accuracy score of Deision Trees is 0.83\n",
      "\n",
      "Classification report: \n",
      "\n",
      "              precision    recall  f1-score   support\n",
      "\n",
      "           0       0.41      0.92      0.57        75\n",
      "           1       0.85      0.31      0.46       259\n",
      "           2       0.90      0.66      0.76       107\n",
      "           3       0.92      0.99      0.95       882\n",
      "           4       0.60      0.85      0.70        47\n",
      "           5       0.90      0.95      0.92       144\n",
      "           6       0.85      0.74      0.79       215\n",
      "           7       0.94      0.91      0.93       313\n",
      "           8       0.20      0.57      0.30        37\n",
      "           9       0.96      0.87      0.91       331\n",
      "          10       0.43      0.65      0.52        49\n",
      "          11       0.11      0.08      0.10        12\n",
      "          12       0.93      0.66      0.77        59\n",
      "          13       1.00      0.75      0.86         4\n",
      "\n",
      "    accuracy                           0.83      2534\n",
      "   macro avg       0.71      0.71      0.68      2534\n",
      "weighted avg       0.87      0.83      0.83      2534\n",
      "\n"
     ]
    }
   ],
   "source": [
    "accuracy_metrics('Deision Trees', Target_actual,Target_pred_dt)"
   ]
  },
  {
   "cell_type": "markdown",
   "id": "9924bd61",
   "metadata": {},
   "source": [
    "### In case of decision trees, we can see that the accuracy is more or less the same, but the other metrics are much better than our former models. "
   ]
  },
  {
   "cell_type": "markdown",
   "id": "87f64600",
   "metadata": {},
   "source": [
    "### We will now try tuning the hyperparameters for this model in order to check if we can improve the metrics:"
   ]
  },
  {
   "cell_type": "markdown",
   "id": "5d3bde7a",
   "metadata": {},
   "source": [
    "## HYPERPARAMETER TUNING:"
   ]
  },
  {
   "cell_type": "code",
   "execution_count": 162,
   "id": "7de3d1cf",
   "metadata": {},
   "outputs": [],
   "source": [
    "parameters_dt = {'criterion':['gini','entropy'],'max_depth':np.arange(10,50,5),\n",
    "             'min_samples_split':np.arange(2,10,1)}"
   ]
  },
  {
   "cell_type": "code",
   "execution_count": 163,
   "id": "fd63acd8",
   "metadata": {},
   "outputs": [
    {
     "data": {
      "text/html": [
       "<style>#sk-container-id-1 {\n",
       "  /* Definition of color scheme common for light and dark mode */\n",
       "  --sklearn-color-text: black;\n",
       "  --sklearn-color-line: gray;\n",
       "  /* Definition of color scheme for unfitted estimators */\n",
       "  --sklearn-color-unfitted-level-0: #fff5e6;\n",
       "  --sklearn-color-unfitted-level-1: #f6e4d2;\n",
       "  --sklearn-color-unfitted-level-2: #ffe0b3;\n",
       "  --sklearn-color-unfitted-level-3: chocolate;\n",
       "  /* Definition of color scheme for fitted estimators */\n",
       "  --sklearn-color-fitted-level-0: #f0f8ff;\n",
       "  --sklearn-color-fitted-level-1: #d4ebff;\n",
       "  --sklearn-color-fitted-level-2: #b3dbfd;\n",
       "  --sklearn-color-fitted-level-3: cornflowerblue;\n",
       "\n",
       "  /* Specific color for light theme */\n",
       "  --sklearn-color-text-on-default-background: var(--sg-text-color, var(--theme-code-foreground, var(--jp-content-font-color1, black)));\n",
       "  --sklearn-color-background: var(--sg-background-color, var(--theme-background, var(--jp-layout-color0, white)));\n",
       "  --sklearn-color-border-box: var(--sg-text-color, var(--theme-code-foreground, var(--jp-content-font-color1, black)));\n",
       "  --sklearn-color-icon: #696969;\n",
       "\n",
       "  @media (prefers-color-scheme: dark) {\n",
       "    /* Redefinition of color scheme for dark theme */\n",
       "    --sklearn-color-text-on-default-background: var(--sg-text-color, var(--theme-code-foreground, var(--jp-content-font-color1, white)));\n",
       "    --sklearn-color-background: var(--sg-background-color, var(--theme-background, var(--jp-layout-color0, #111)));\n",
       "    --sklearn-color-border-box: var(--sg-text-color, var(--theme-code-foreground, var(--jp-content-font-color1, white)));\n",
       "    --sklearn-color-icon: #878787;\n",
       "  }\n",
       "}\n",
       "\n",
       "#sk-container-id-1 {\n",
       "  color: var(--sklearn-color-text);\n",
       "}\n",
       "\n",
       "#sk-container-id-1 pre {\n",
       "  padding: 0;\n",
       "}\n",
       "\n",
       "#sk-container-id-1 input.sk-hidden--visually {\n",
       "  border: 0;\n",
       "  clip: rect(1px 1px 1px 1px);\n",
       "  clip: rect(1px, 1px, 1px, 1px);\n",
       "  height: 1px;\n",
       "  margin: -1px;\n",
       "  overflow: hidden;\n",
       "  padding: 0;\n",
       "  position: absolute;\n",
       "  width: 1px;\n",
       "}\n",
       "\n",
       "#sk-container-id-1 div.sk-dashed-wrapped {\n",
       "  border: 1px dashed var(--sklearn-color-line);\n",
       "  margin: 0 0.4em 0.5em 0.4em;\n",
       "  box-sizing: border-box;\n",
       "  padding-bottom: 0.4em;\n",
       "  background-color: var(--sklearn-color-background);\n",
       "}\n",
       "\n",
       "#sk-container-id-1 div.sk-container {\n",
       "  /* jupyter's `normalize.less` sets `[hidden] { display: none; }`\n",
       "     but bootstrap.min.css set `[hidden] { display: none !important; }`\n",
       "     so we also need the `!important` here to be able to override the\n",
       "     default hidden behavior on the sphinx rendered scikit-learn.org.\n",
       "     See: https://github.com/scikit-learn/scikit-learn/issues/21755 */\n",
       "  display: inline-block !important;\n",
       "  position: relative;\n",
       "}\n",
       "\n",
       "#sk-container-id-1 div.sk-text-repr-fallback {\n",
       "  display: none;\n",
       "}\n",
       "\n",
       "div.sk-parallel-item,\n",
       "div.sk-serial,\n",
       "div.sk-item {\n",
       "  /* draw centered vertical line to link estimators */\n",
       "  background-image: linear-gradient(var(--sklearn-color-text-on-default-background), var(--sklearn-color-text-on-default-background));\n",
       "  background-size: 2px 100%;\n",
       "  background-repeat: no-repeat;\n",
       "  background-position: center center;\n",
       "}\n",
       "\n",
       "/* Parallel-specific style estimator block */\n",
       "\n",
       "#sk-container-id-1 div.sk-parallel-item::after {\n",
       "  content: \"\";\n",
       "  width: 100%;\n",
       "  border-bottom: 2px solid var(--sklearn-color-text-on-default-background);\n",
       "  flex-grow: 1;\n",
       "}\n",
       "\n",
       "#sk-container-id-1 div.sk-parallel {\n",
       "  display: flex;\n",
       "  align-items: stretch;\n",
       "  justify-content: center;\n",
       "  background-color: var(--sklearn-color-background);\n",
       "  position: relative;\n",
       "}\n",
       "\n",
       "#sk-container-id-1 div.sk-parallel-item {\n",
       "  display: flex;\n",
       "  flex-direction: column;\n",
       "}\n",
       "\n",
       "#sk-container-id-1 div.sk-parallel-item:first-child::after {\n",
       "  align-self: flex-end;\n",
       "  width: 50%;\n",
       "}\n",
       "\n",
       "#sk-container-id-1 div.sk-parallel-item:last-child::after {\n",
       "  align-self: flex-start;\n",
       "  width: 50%;\n",
       "}\n",
       "\n",
       "#sk-container-id-1 div.sk-parallel-item:only-child::after {\n",
       "  width: 0;\n",
       "}\n",
       "\n",
       "/* Serial-specific style estimator block */\n",
       "\n",
       "#sk-container-id-1 div.sk-serial {\n",
       "  display: flex;\n",
       "  flex-direction: column;\n",
       "  align-items: center;\n",
       "  background-color: var(--sklearn-color-background);\n",
       "  padding-right: 1em;\n",
       "  padding-left: 1em;\n",
       "}\n",
       "\n",
       "\n",
       "/* Toggleable style: style used for estimator/Pipeline/ColumnTransformer box that is\n",
       "clickable and can be expanded/collapsed.\n",
       "- Pipeline and ColumnTransformer use this feature and define the default style\n",
       "- Estimators will overwrite some part of the style using the `sk-estimator` class\n",
       "*/\n",
       "\n",
       "/* Pipeline and ColumnTransformer style (default) */\n",
       "\n",
       "#sk-container-id-1 div.sk-toggleable {\n",
       "  /* Default theme specific background. It is overwritten whether we have a\n",
       "  specific estimator or a Pipeline/ColumnTransformer */\n",
       "  background-color: var(--sklearn-color-background);\n",
       "}\n",
       "\n",
       "/* Toggleable label */\n",
       "#sk-container-id-1 label.sk-toggleable__label {\n",
       "  cursor: pointer;\n",
       "  display: block;\n",
       "  width: 100%;\n",
       "  margin-bottom: 0;\n",
       "  padding: 0.5em;\n",
       "  box-sizing: border-box;\n",
       "  text-align: center;\n",
       "}\n",
       "\n",
       "#sk-container-id-1 label.sk-toggleable__label-arrow:before {\n",
       "  /* Arrow on the left of the label */\n",
       "  content: \"▸\";\n",
       "  float: left;\n",
       "  margin-right: 0.25em;\n",
       "  color: var(--sklearn-color-icon);\n",
       "}\n",
       "\n",
       "#sk-container-id-1 label.sk-toggleable__label-arrow:hover:before {\n",
       "  color: var(--sklearn-color-text);\n",
       "}\n",
       "\n",
       "/* Toggleable content - dropdown */\n",
       "\n",
       "#sk-container-id-1 div.sk-toggleable__content {\n",
       "  max-height: 0;\n",
       "  max-width: 0;\n",
       "  overflow: hidden;\n",
       "  text-align: left;\n",
       "  /* unfitted */\n",
       "  background-color: var(--sklearn-color-unfitted-level-0);\n",
       "}\n",
       "\n",
       "#sk-container-id-1 div.sk-toggleable__content.fitted {\n",
       "  /* fitted */\n",
       "  background-color: var(--sklearn-color-fitted-level-0);\n",
       "}\n",
       "\n",
       "#sk-container-id-1 div.sk-toggleable__content pre {\n",
       "  margin: 0.2em;\n",
       "  border-radius: 0.25em;\n",
       "  color: var(--sklearn-color-text);\n",
       "  /* unfitted */\n",
       "  background-color: var(--sklearn-color-unfitted-level-0);\n",
       "}\n",
       "\n",
       "#sk-container-id-1 div.sk-toggleable__content.fitted pre {\n",
       "  /* unfitted */\n",
       "  background-color: var(--sklearn-color-fitted-level-0);\n",
       "}\n",
       "\n",
       "#sk-container-id-1 input.sk-toggleable__control:checked~div.sk-toggleable__content {\n",
       "  /* Expand drop-down */\n",
       "  max-height: 200px;\n",
       "  max-width: 100%;\n",
       "  overflow: auto;\n",
       "}\n",
       "\n",
       "#sk-container-id-1 input.sk-toggleable__control:checked~label.sk-toggleable__label-arrow:before {\n",
       "  content: \"▾\";\n",
       "}\n",
       "\n",
       "/* Pipeline/ColumnTransformer-specific style */\n",
       "\n",
       "#sk-container-id-1 div.sk-label input.sk-toggleable__control:checked~label.sk-toggleable__label {\n",
       "  color: var(--sklearn-color-text);\n",
       "  background-color: var(--sklearn-color-unfitted-level-2);\n",
       "}\n",
       "\n",
       "#sk-container-id-1 div.sk-label.fitted input.sk-toggleable__control:checked~label.sk-toggleable__label {\n",
       "  background-color: var(--sklearn-color-fitted-level-2);\n",
       "}\n",
       "\n",
       "/* Estimator-specific style */\n",
       "\n",
       "/* Colorize estimator box */\n",
       "#sk-container-id-1 div.sk-estimator input.sk-toggleable__control:checked~label.sk-toggleable__label {\n",
       "  /* unfitted */\n",
       "  background-color: var(--sklearn-color-unfitted-level-2);\n",
       "}\n",
       "\n",
       "#sk-container-id-1 div.sk-estimator.fitted input.sk-toggleable__control:checked~label.sk-toggleable__label {\n",
       "  /* fitted */\n",
       "  background-color: var(--sklearn-color-fitted-level-2);\n",
       "}\n",
       "\n",
       "#sk-container-id-1 div.sk-label label.sk-toggleable__label,\n",
       "#sk-container-id-1 div.sk-label label {\n",
       "  /* The background is the default theme color */\n",
       "  color: var(--sklearn-color-text-on-default-background);\n",
       "}\n",
       "\n",
       "/* On hover, darken the color of the background */\n",
       "#sk-container-id-1 div.sk-label:hover label.sk-toggleable__label {\n",
       "  color: var(--sklearn-color-text);\n",
       "  background-color: var(--sklearn-color-unfitted-level-2);\n",
       "}\n",
       "\n",
       "/* Label box, darken color on hover, fitted */\n",
       "#sk-container-id-1 div.sk-label.fitted:hover label.sk-toggleable__label.fitted {\n",
       "  color: var(--sklearn-color-text);\n",
       "  background-color: var(--sklearn-color-fitted-level-2);\n",
       "}\n",
       "\n",
       "/* Estimator label */\n",
       "\n",
       "#sk-container-id-1 div.sk-label label {\n",
       "  font-family: monospace;\n",
       "  font-weight: bold;\n",
       "  display: inline-block;\n",
       "  line-height: 1.2em;\n",
       "}\n",
       "\n",
       "#sk-container-id-1 div.sk-label-container {\n",
       "  text-align: center;\n",
       "}\n",
       "\n",
       "/* Estimator-specific */\n",
       "#sk-container-id-1 div.sk-estimator {\n",
       "  font-family: monospace;\n",
       "  border: 1px dotted var(--sklearn-color-border-box);\n",
       "  border-radius: 0.25em;\n",
       "  box-sizing: border-box;\n",
       "  margin-bottom: 0.5em;\n",
       "  /* unfitted */\n",
       "  background-color: var(--sklearn-color-unfitted-level-0);\n",
       "}\n",
       "\n",
       "#sk-container-id-1 div.sk-estimator.fitted {\n",
       "  /* fitted */\n",
       "  background-color: var(--sklearn-color-fitted-level-0);\n",
       "}\n",
       "\n",
       "/* on hover */\n",
       "#sk-container-id-1 div.sk-estimator:hover {\n",
       "  /* unfitted */\n",
       "  background-color: var(--sklearn-color-unfitted-level-2);\n",
       "}\n",
       "\n",
       "#sk-container-id-1 div.sk-estimator.fitted:hover {\n",
       "  /* fitted */\n",
       "  background-color: var(--sklearn-color-fitted-level-2);\n",
       "}\n",
       "\n",
       "/* Specification for estimator info (e.g. \"i\" and \"?\") */\n",
       "\n",
       "/* Common style for \"i\" and \"?\" */\n",
       "\n",
       ".sk-estimator-doc-link,\n",
       "a:link.sk-estimator-doc-link,\n",
       "a:visited.sk-estimator-doc-link {\n",
       "  float: right;\n",
       "  font-size: smaller;\n",
       "  line-height: 1em;\n",
       "  font-family: monospace;\n",
       "  background-color: var(--sklearn-color-background);\n",
       "  border-radius: 1em;\n",
       "  height: 1em;\n",
       "  width: 1em;\n",
       "  text-decoration: none !important;\n",
       "  margin-left: 1ex;\n",
       "  /* unfitted */\n",
       "  border: var(--sklearn-color-unfitted-level-1) 1pt solid;\n",
       "  color: var(--sklearn-color-unfitted-level-1);\n",
       "}\n",
       "\n",
       ".sk-estimator-doc-link.fitted,\n",
       "a:link.sk-estimator-doc-link.fitted,\n",
       "a:visited.sk-estimator-doc-link.fitted {\n",
       "  /* fitted */\n",
       "  border: var(--sklearn-color-fitted-level-1) 1pt solid;\n",
       "  color: var(--sklearn-color-fitted-level-1);\n",
       "}\n",
       "\n",
       "/* On hover */\n",
       "div.sk-estimator:hover .sk-estimator-doc-link:hover,\n",
       ".sk-estimator-doc-link:hover,\n",
       "div.sk-label-container:hover .sk-estimator-doc-link:hover,\n",
       ".sk-estimator-doc-link:hover {\n",
       "  /* unfitted */\n",
       "  background-color: var(--sklearn-color-unfitted-level-3);\n",
       "  color: var(--sklearn-color-background);\n",
       "  text-decoration: none;\n",
       "}\n",
       "\n",
       "div.sk-estimator.fitted:hover .sk-estimator-doc-link.fitted:hover,\n",
       ".sk-estimator-doc-link.fitted:hover,\n",
       "div.sk-label-container:hover .sk-estimator-doc-link.fitted:hover,\n",
       ".sk-estimator-doc-link.fitted:hover {\n",
       "  /* fitted */\n",
       "  background-color: var(--sklearn-color-fitted-level-3);\n",
       "  color: var(--sklearn-color-background);\n",
       "  text-decoration: none;\n",
       "}\n",
       "\n",
       "/* Span, style for the box shown on hovering the info icon */\n",
       ".sk-estimator-doc-link span {\n",
       "  display: none;\n",
       "  z-index: 9999;\n",
       "  position: relative;\n",
       "  font-weight: normal;\n",
       "  right: .2ex;\n",
       "  padding: .5ex;\n",
       "  margin: .5ex;\n",
       "  width: min-content;\n",
       "  min-width: 20ex;\n",
       "  max-width: 50ex;\n",
       "  color: var(--sklearn-color-text);\n",
       "  box-shadow: 2pt 2pt 4pt #999;\n",
       "  /* unfitted */\n",
       "  background: var(--sklearn-color-unfitted-level-0);\n",
       "  border: .5pt solid var(--sklearn-color-unfitted-level-3);\n",
       "}\n",
       "\n",
       ".sk-estimator-doc-link.fitted span {\n",
       "  /* fitted */\n",
       "  background: var(--sklearn-color-fitted-level-0);\n",
       "  border: var(--sklearn-color-fitted-level-3);\n",
       "}\n",
       "\n",
       ".sk-estimator-doc-link:hover span {\n",
       "  display: block;\n",
       "}\n",
       "\n",
       "/* \"?\"-specific style due to the `<a>` HTML tag */\n",
       "\n",
       "#sk-container-id-1 a.estimator_doc_link {\n",
       "  float: right;\n",
       "  font-size: 1rem;\n",
       "  line-height: 1em;\n",
       "  font-family: monospace;\n",
       "  background-color: var(--sklearn-color-background);\n",
       "  border-radius: 1rem;\n",
       "  height: 1rem;\n",
       "  width: 1rem;\n",
       "  text-decoration: none;\n",
       "  /* unfitted */\n",
       "  color: var(--sklearn-color-unfitted-level-1);\n",
       "  border: var(--sklearn-color-unfitted-level-1) 1pt solid;\n",
       "}\n",
       "\n",
       "#sk-container-id-1 a.estimator_doc_link.fitted {\n",
       "  /* fitted */\n",
       "  border: var(--sklearn-color-fitted-level-1) 1pt solid;\n",
       "  color: var(--sklearn-color-fitted-level-1);\n",
       "}\n",
       "\n",
       "/* On hover */\n",
       "#sk-container-id-1 a.estimator_doc_link:hover {\n",
       "  /* unfitted */\n",
       "  background-color: var(--sklearn-color-unfitted-level-3);\n",
       "  color: var(--sklearn-color-background);\n",
       "  text-decoration: none;\n",
       "}\n",
       "\n",
       "#sk-container-id-1 a.estimator_doc_link.fitted:hover {\n",
       "  /* fitted */\n",
       "  background-color: var(--sklearn-color-fitted-level-3);\n",
       "}\n",
       "</style><div id=\"sk-container-id-1\" class=\"sk-top-container\"><div class=\"sk-text-repr-fallback\"><pre>GridSearchCV(cv=5, estimator=DecisionTreeClassifier(), n_jobs=10,\n",
       "             param_grid={&#x27;criterion&#x27;: [&#x27;gini&#x27;, &#x27;entropy&#x27;],\n",
       "                         &#x27;max_depth&#x27;: array([10, 15, 20, 25, 30, 35, 40, 45]),\n",
       "                         &#x27;min_samples_split&#x27;: array([2, 3, 4, 5, 6, 7, 8, 9])})</pre><b>In a Jupyter environment, please rerun this cell to show the HTML representation or trust the notebook. <br />On GitHub, the HTML representation is unable to render, please try loading this page with nbviewer.org.</b></div><div class=\"sk-container\" hidden><div class=\"sk-item sk-dashed-wrapped\"><div class=\"sk-label-container\"><div class=\"sk-label fitted sk-toggleable\"><input class=\"sk-toggleable__control sk-hidden--visually\" id=\"sk-estimator-id-1\" type=\"checkbox\" ><label for=\"sk-estimator-id-1\" class=\"sk-toggleable__label fitted sk-toggleable__label-arrow fitted\">&nbsp;&nbsp;GridSearchCV<a class=\"sk-estimator-doc-link fitted\" rel=\"noreferrer\" target=\"_blank\" href=\"https://scikit-learn.org/1.5/modules/generated/sklearn.model_selection.GridSearchCV.html\">?<span>Documentation for GridSearchCV</span></a><span class=\"sk-estimator-doc-link fitted\">i<span>Fitted</span></span></label><div class=\"sk-toggleable__content fitted\"><pre>GridSearchCV(cv=5, estimator=DecisionTreeClassifier(), n_jobs=10,\n",
       "             param_grid={&#x27;criterion&#x27;: [&#x27;gini&#x27;, &#x27;entropy&#x27;],\n",
       "                         &#x27;max_depth&#x27;: array([10, 15, 20, 25, 30, 35, 40, 45]),\n",
       "                         &#x27;min_samples_split&#x27;: array([2, 3, 4, 5, 6, 7, 8, 9])})</pre></div> </div></div><div class=\"sk-parallel\"><div class=\"sk-parallel-item\"><div class=\"sk-item\"><div class=\"sk-label-container\"><div class=\"sk-label fitted sk-toggleable\"><input class=\"sk-toggleable__control sk-hidden--visually\" id=\"sk-estimator-id-2\" type=\"checkbox\" ><label for=\"sk-estimator-id-2\" class=\"sk-toggleable__label fitted sk-toggleable__label-arrow fitted\">best_estimator_: DecisionTreeClassifier</label><div class=\"sk-toggleable__content fitted\"><pre>DecisionTreeClassifier(criterion=&#x27;entropy&#x27;, max_depth=40, min_samples_split=5)</pre></div> </div></div><div class=\"sk-serial\"><div class=\"sk-item\"><div class=\"sk-estimator fitted sk-toggleable\"><input class=\"sk-toggleable__control sk-hidden--visually\" id=\"sk-estimator-id-3\" type=\"checkbox\" ><label for=\"sk-estimator-id-3\" class=\"sk-toggleable__label fitted sk-toggleable__label-arrow fitted\">&nbsp;DecisionTreeClassifier<a class=\"sk-estimator-doc-link fitted\" rel=\"noreferrer\" target=\"_blank\" href=\"https://scikit-learn.org/1.5/modules/generated/sklearn.tree.DecisionTreeClassifier.html\">?<span>Documentation for DecisionTreeClassifier</span></a></label><div class=\"sk-toggleable__content fitted\"><pre>DecisionTreeClassifier(criterion=&#x27;entropy&#x27;, max_depth=40, min_samples_split=5)</pre></div> </div></div></div></div></div></div></div></div></div>"
      ],
      "text/plain": [
       "GridSearchCV(cv=5, estimator=DecisionTreeClassifier(), n_jobs=10,\n",
       "             param_grid={'criterion': ['gini', 'entropy'],\n",
       "                         'max_depth': array([10, 15, 20, 25, 30, 35, 40, 45]),\n",
       "                         'min_samples_split': array([2, 3, 4, 5, 6, 7, 8, 9])})"
      ]
     },
     "execution_count": 163,
     "metadata": {},
     "output_type": "execute_result"
    }
   ],
   "source": [
    "gs = GridSearchCV(estimator = dt, param_grid=parameters_dt,n_jobs=10, cv = 5 )\n",
    "gs.fit(X_train_tf,y_train)"
   ]
  },
  {
   "cell_type": "code",
   "execution_count": 164,
   "id": "d5c9ebc8",
   "metadata": {},
   "outputs": [
    {
     "data": {
      "text/plain": [
       "{'criterion': 'entropy', 'max_depth': 40, 'min_samples_split': 5}"
      ]
     },
     "execution_count": 164,
     "metadata": {},
     "output_type": "execute_result"
    }
   ],
   "source": [
    "gs.best_params_"
   ]
  },
  {
   "cell_type": "code",
   "execution_count": 165,
   "id": "a70f13ff",
   "metadata": {},
   "outputs": [],
   "source": [
    "dt_best_model = gs.best_estimator_"
   ]
  },
  {
   "cell_type": "code",
   "execution_count": 167,
   "id": "b921f411",
   "metadata": {},
   "outputs": [],
   "source": [
    "best_dt_model  = dt_best_model.fit(X_train_tf,y_train)"
   ]
  },
  {
   "cell_type": "code",
   "execution_count": 171,
   "id": "4ac53936",
   "metadata": {},
   "outputs": [],
   "source": [
    "Target_best_dt = best_dt_model.predict(Features)"
   ]
  },
  {
   "cell_type": "code",
   "execution_count": 173,
   "id": "a5fdaebc",
   "metadata": {},
   "outputs": [
    {
     "name": "stdout",
     "output_type": "stream",
     "text": [
      "The accuracy metrics for Decision Trees - Parameters Tuned are as follows: \n",
      "\n",
      "The accuracy score of Decision Trees - Parameters Tuned is 0.76\n",
      "\n",
      "Classification report: \n",
      "\n",
      "              precision    recall  f1-score   support\n",
      "\n",
      "           0       0.81      0.61      0.70        75\n",
      "           1       0.12      0.03      0.05       259\n",
      "           2       0.99      0.73      0.84       107\n",
      "           3       0.89      0.96      0.92       882\n",
      "           4       0.21      0.15      0.17        47\n",
      "           5       0.86      0.97      0.92       144\n",
      "           6       0.37      0.60      0.46       215\n",
      "           7       0.96      0.83      0.89       313\n",
      "           8       0.22      0.68      0.33        37\n",
      "           9       0.93      0.89      0.91       331\n",
      "          10       0.64      0.84      0.73        49\n",
      "          11       0.40      0.17      0.24        12\n",
      "          12       0.92      0.75      0.82        59\n",
      "          13       0.25      1.00      0.40         4\n",
      "\n",
      "    accuracy                           0.76      2534\n",
      "   macro avg       0.61      0.66      0.60      2534\n",
      "weighted avg       0.75      0.76      0.75      2534\n",
      "\n"
     ]
    }
   ],
   "source": [
    "accuracy_metrics(\"Decision Trees - Parameters Tuned\", Target_actual,Target_best_dt)"
   ]
  },
  {
   "cell_type": "markdown",
   "id": "0ba97b56",
   "metadata": {},
   "source": [
    "### We can observe that there in no major improvement, in fact some of the metrics have gone lower. Henceforth, we will select the Decision Tree model to be our Golden Model.  "
   ]
  }
 ],
 "metadata": {
  "kernelspec": {
   "display_name": "Python 3 (ipykernel)",
   "language": "python",
   "name": "python3"
  },
  "language_info": {
   "codemirror_mode": {
    "name": "ipython",
    "version": 3
   },
   "file_extension": ".py",
   "mimetype": "text/x-python",
   "name": "python",
   "nbconvert_exporter": "python",
   "pygments_lexer": "ipython3",
   "version": "3.12.7"
  }
 },
 "nbformat": 4,
 "nbformat_minor": 5
}
